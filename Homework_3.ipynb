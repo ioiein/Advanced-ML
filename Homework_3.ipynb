{
  "nbformat": 4,
  "nbformat_minor": 0,
  "metadata": {
    "colab": {
      "name": "Homework 3.ipynb",
      "provenance": [],
      "collapsed_sections": [],
      "authorship_tag": "ABX9TyNlUwpT3xtQxIR9/Bk0h1rB",
      "include_colab_link": true
    },
    "kernelspec": {
      "name": "python3",
      "display_name": "Python 3"
    },
    "language_info": {
      "name": "python"
    }
  },
  "cells": [
    {
      "cell_type": "markdown",
      "metadata": {
        "id": "view-in-github",
        "colab_type": "text"
      },
      "source": [
        "<a href=\"https://colab.research.google.com/github/ioiein/Advanced-ML/blob/main/Homework_3.ipynb\" target=\"_parent\"><img src=\"https://colab.research.google.com/assets/colab-badge.svg\" alt=\"Open In Colab\"/></a>"
      ]
    },
    {
      "cell_type": "code",
      "metadata": {
        "colab": {
          "base_uri": "https://localhost:8080/"
        },
        "id": "DuPF743q9kps",
        "outputId": "6acb405a-8a94-4bf8-cded-888bbe5f8d1b"
      },
      "source": [
        "!wget https://www.dropbox.com/s/k23enjvr3fb40o5/corpora.zip\n",
        "!unzip corpora.zip"
      ],
      "execution_count": 1,
      "outputs": [
        {
          "output_type": "stream",
          "text": [
            "--2021-05-13 14:48:52--  https://www.dropbox.com/s/k23enjvr3fb40o5/corpora.zip\n",
            "Resolving www.dropbox.com (www.dropbox.com)... 162.125.1.18, 2620:100:601a:18::a27d:712\n",
            "Connecting to www.dropbox.com (www.dropbox.com)|162.125.1.18|:443... connected.\n",
            "HTTP request sent, awaiting response... 301 Moved Permanently\n",
            "Location: /s/raw/k23enjvr3fb40o5/corpora.zip [following]\n",
            "--2021-05-13 14:48:52--  https://www.dropbox.com/s/raw/k23enjvr3fb40o5/corpora.zip\n",
            "Reusing existing connection to www.dropbox.com:443.\n",
            "HTTP request sent, awaiting response... 302 Found\n",
            "Location: https://uce6e0e02edbaa41bdc0d9bd6235.dl.dropboxusercontent.com/cd/0/inline/BOamu0uFltYFzyGTCYt-YjJ-HGYvq9UDJs-oEaLxslMouuFy5V5evpy90b34s81mpqjT8bWgGWa0Wrb190H2x4hqME6z0Xw_DGZJ67ZtcHxL4fq7f0bPfp1uymMYQMO61_jIkZ4hPRy3TtMFzc4T4ucT/file# [following]\n",
            "--2021-05-13 14:48:52--  https://uce6e0e02edbaa41bdc0d9bd6235.dl.dropboxusercontent.com/cd/0/inline/BOamu0uFltYFzyGTCYt-YjJ-HGYvq9UDJs-oEaLxslMouuFy5V5evpy90b34s81mpqjT8bWgGWa0Wrb190H2x4hqME6z0Xw_DGZJ67ZtcHxL4fq7f0bPfp1uymMYQMO61_jIkZ4hPRy3TtMFzc4T4ucT/file\n",
            "Resolving uce6e0e02edbaa41bdc0d9bd6235.dl.dropboxusercontent.com (uce6e0e02edbaa41bdc0d9bd6235.dl.dropboxusercontent.com)... 162.125.7.15, 2620:100:601a:15::a27d:70f\n",
            "Connecting to uce6e0e02edbaa41bdc0d9bd6235.dl.dropboxusercontent.com (uce6e0e02edbaa41bdc0d9bd6235.dl.dropboxusercontent.com)|162.125.7.15|:443... connected.\n",
            "HTTP request sent, awaiting response... 302 Found\n",
            "Location: /cd/0/inline2/BOZBaceMhO6vdsuZhjd9gIlQ-87htlg2h1uTY_Eul7LnM6cux7dGTfIT6d6XSguKv5WCiFolI3vFS-8CgX8BSPs1CyGNPKrq2RvoEtE0frdLrTY0k9BAQKfF1CEQWpe7xgXZ_Juhvz0tSg3IsQv6PXU1YnezUYdQRGxp3krxrglXEXOTEOuHNiZH2tscOjL9_2RsdIHzSmp90c2WnnefMt_U4H8vCjLXJkRCL8WrWcAMKtDPNLMX6pDfWu0KYKN1-cV6dyI8yN3VYp5VZJsqZTR7h1gZAZFxqQoLy9Rt_WlGS9GrYXUo413mf6zf02z2AUELUq2WRQKMlPkqLejhtWax_4tn54nG7QcJArFzRqgbsCaeUfFTShUD4uB_8_ArtQ8/file [following]\n",
            "--2021-05-13 14:48:53--  https://uce6e0e02edbaa41bdc0d9bd6235.dl.dropboxusercontent.com/cd/0/inline2/BOZBaceMhO6vdsuZhjd9gIlQ-87htlg2h1uTY_Eul7LnM6cux7dGTfIT6d6XSguKv5WCiFolI3vFS-8CgX8BSPs1CyGNPKrq2RvoEtE0frdLrTY0k9BAQKfF1CEQWpe7xgXZ_Juhvz0tSg3IsQv6PXU1YnezUYdQRGxp3krxrglXEXOTEOuHNiZH2tscOjL9_2RsdIHzSmp90c2WnnefMt_U4H8vCjLXJkRCL8WrWcAMKtDPNLMX6pDfWu0KYKN1-cV6dyI8yN3VYp5VZJsqZTR7h1gZAZFxqQoLy9Rt_WlGS9GrYXUo413mf6zf02z2AUELUq2WRQKMlPkqLejhtWax_4tn54nG7QcJArFzRqgbsCaeUfFTShUD4uB_8_ArtQ8/file\n",
            "Reusing existing connection to uce6e0e02edbaa41bdc0d9bd6235.dl.dropboxusercontent.com:443.\n",
            "HTTP request sent, awaiting response... 200 OK\n",
            "Length: 2434585 (2.3M) [application/zip]\n",
            "Saving to: ‘corpora.zip’\n",
            "\n",
            "corpora.zip         100%[===================>]   2.32M  14.8MB/s    in 0.2s    \n",
            "\n",
            "2021-05-13 14:48:53 (14.8 MB/s) - ‘corpora.zip’ saved [2434585/2434585]\n",
            "\n",
            "Archive:  corpora.zip\n",
            "  inflating: AnnaKarenina.txt        \n",
            "  inflating: WarAndPeace.txt         \n",
            "  inflating: WarAndPeaceEng.txt      \n"
          ],
          "name": "stdout"
        }
      ]
    },
    {
      "cell_type": "code",
      "metadata": {
        "id": "eDD9eMWp_Zav"
      },
      "source": [
        "import string\n",
        "import re\n",
        "from collections import Counter\n",
        "from random import sample"
      ],
      "execution_count": 9,
      "outputs": []
    },
    {
      "cell_type": "code",
      "metadata": {
        "id": "tkeLMFN1931b"
      },
      "source": [
        "with open('WarAndPeace.txt', 'r') as f:\n",
        "  war_and_peace = f.read()\n",
        "with open('WarAndPeaceEng.txt', 'r') as f:\n",
        "  war_and_peace_en = f.read()\n",
        "with open('AnnaKarenina.txt', 'r') as f:\n",
        "  ann_karenina = f.read()"
      ],
      "execution_count": 4,
      "outputs": []
    },
    {
      "cell_type": "markdown",
      "metadata": {
        "id": "DvN92DdrPc9f"
      },
      "source": [
        "Подготовка текстов\\\n",
        "Приведение к нижнему регистру, удаление лишних символов и удаление пунктуации."
      ]
    },
    {
      "cell_type": "code",
      "metadata": {
        "id": "iKQFDz2o-Mok"
      },
      "source": [
        "war_and_peace = war_and_peace.lower()\n",
        "war_and_peace = re.sub(r'[^а-яё ]', \" \", war_and_peace)\n",
        "war_and_peace = re.sub(r'\\s+', \" \", war_and_peace)\n",
        "\n",
        "war_and_peace_en = war_and_peace_en.lower()\n",
        "war_and_peace_en = re.sub(r'[^a-z ]', \" \", war_and_peace_en)\n",
        "war_and_peace_en = re.sub(r'\\s+', \" \", war_and_peace_en)\n",
        "\n",
        "ann_karenina = ann_karenina.lower()\n",
        "ann_karenina = re.sub(r'[^а-яё ]', \" \", ann_karenina)\n",
        "ann_karenina = re.sub(r'\\s+', \" \", ann_karenina)"
      ],
      "execution_count": 5,
      "outputs": []
    },
    {
      "cell_type": "markdown",
      "metadata": {
        "id": "i0FcLJWlQA11"
      },
      "source": [
        "**Пункт 1**\\\n",
        "Реализуйте базовый частотный метод по Шерлоку Холмсу:\n",
        "* подсчитайте частоты букв по корпусам (пунктуацию и капитализацию можно просто опустить, а вот пробелы лучше оставить);\n",
        "* возьмите какие-нибудь тестовые тексты (нужно взять по меньшей мере 2-3 предложения, иначе вряд ли сработает), зашифруйте их посредством случайной перестановки символов;\n",
        "* расшифруйте их таким частотным методом.\n"
      ]
    },
    {
      "cell_type": "code",
      "metadata": {
        "id": "HlsJzDS_V3to"
      },
      "source": [
        "ru_enc_key = dict(zip(list(set(war_and_peace)), sample(list(set(war_and_peace)),len(list(set(war_and_peace))))))\n",
        "eng_enc_key = dict(zip(list(set(war_and_peace_en)), sample(list(set(war_and_peace_en)), len(list(set(war_and_peace)))))"
      ],
      "execution_count": 10,
      "outputs": []
    },
    {
      "cell_type": "code",
      "metadata": {
        "id": "jRqCI0yXXN2P"
      },
      "source": [
        "test1_ru = \"\"\"Когда человек сознательно или интуитивно выбирает себе в жизни какую-то цель, жизненную задачу, он невольно дает себе оценку. По тому, ради чего человек живет, можно судить и о его самооценке - низкой или высокой.\n",
        "\n",
        "Если человек живет, чтобы приносить людям добро, облегчать их страдания, давать людям радость, то он оценивает себя на уровне этой своей человечности. Он ставит себе цель, достойную человека.\n",
        "\n",
        "Только такая цель позволяет человеку прожить свою жизнь с достоинством и получить настоящую радость. Да, радость! Подумайте: если человек ставит себе задачей увеличивать в жизни добро, приносить людям счастье, какие неудачи могут его постигнуть? Не тому помочь? Но много ли людей не нуждаются в помощи?\n",
        "\n",
        "Если жить только для себя, своими мелкими заботами о собственном благополучии, то от прожитого не останется и следа. Если же жить для других, то другие сберегут то, чему служил, чему отдавал силы.\n",
        "\n",
        "Можно по-разному определять цель своего существования, но цель должна быть. Надо иметь и принципы в жизни. Одно правило в жизни должно быть у каждого человека, в его цели жизни, в его принципах жизни, в его поведении: надо прожить жизнь с достоинством, чтобы не стыдно было вспоминать.\n",
        "\n",
        "Достоинство требует доброты, великодушия, умения не быть эгоистом, быть правдивым, хорошим другом, находить радость в помощи другим.\n",
        "\n",
        "Ради достоинства жизни надо уметь отказываться от мелких удовольствий и немалых тоже… Уметь извиняться, признавать перед другими ошибку - лучше, чем врать.\n",
        "\n",
        "Обманывая, человек прежде всего обманывает самого себя, ибо он думает, что успешно соврал, а люди поняли и из деликатности промолчали.\n",
        "\n",
        "Жизнь - прежде всего творчество, но это не значит, что каждый человек, чтобы жить, должен родиться художником, балериной или ученым. Можно творить просто добрую атмосферу вокруг себя. Человек может принести с собой атмосферу подозрительности, какого-то тягостного молчания, а может внести сразу радость, свет. Вот это и есть творчество.\"\"\""
      ],
      "execution_count": 11,
      "outputs": []
    },
    {
      "cell_type": "code",
      "metadata": {
        "id": "KNFtzjxYchQy"
      },
      "source": [
        "test1_ru = test1_ru.lower()\n",
        "test1_ru = re.sub(r'[^а-яё ]', \" \", test1_ru)\n",
        "test1_ru = re.sub(r'\\s+', \" \", test1_ru)"
      ],
      "execution_count": 12,
      "outputs": []
    },
    {
      "cell_type": "code",
      "metadata": {
        "id": "QHTNjJC6c78s"
      },
      "source": [
        "def encrypt(text, key):\n",
        "  return \"\".join([key[char] for char in text])"
      ],
      "execution_count": 18,
      "outputs": []
    },
    {
      "cell_type": "code",
      "metadata": {
        "id": "AgEjwdAVdedr"
      },
      "source": [
        "def decrypting(real_text, encrypted_text):\n",
        "  encrypted_text_stat = Counter(encrypted_text).most_common()\n",
        "  real_text_stat = Counter(real_text).most_common(len(encrypted_text_stat))\n",
        "  key = dict(zip([encrypted_text_stat[i][0] for i in range(len(encrypted_text_stat))], \n",
        "                 [real_text_stat[i][0] for i in range(len(encrypted_text_stat))]))\n",
        "  return key"
      ],
      "execution_count": 22,
      "outputs": []
    },
    {
      "cell_type": "code",
      "metadata": {
        "id": "h1OYFFHYjCxD"
      },
      "source": [
        "test1_ru_encrypted = encrypt(test1_ru, ru_enc_key)"
      ],
      "execution_count": 19,
      "outputs": []
    },
    {
      "cell_type": "code",
      "metadata": {
        "colab": {
          "base_uri": "https://localhost:8080/",
          "height": 191
        },
        "id": "8tvO_Ad1jRck",
        "outputId": "3fff6e0d-54bb-4fab-8802-34e37e927c82"
      },
      "source": [
        "test1_ru_encrypted"
      ],
      "execution_count": 20,
      "outputs": [
        {
          "output_type": "execute_result",
          "data": {
            "application/vnd.google.colaboratory.intrinsic+json": {
              "type": "string"
            },
            "text/plain": [
              "'нфвхйстлщфьлнсифзюйылщёюфсящясяюыбяыяьюфсьожяпйлысилжлсьсэязюяснйнбцсыфсдлщёсэязюлююбцсзйхйтбсфюсюльфщёюфсхйлысилжлсфдлюнбсшфсыфъбспйхястлвфстлщфьлнсэяьлысъфэюфсибхяыёсясфслвфсийъффдлюнлсюязнфгсящясьоифнфгслищястлщфьлнсэяьлыстыфжосшпяюфияыёсщцхуъсхфжпфсфжщлвтйыёсячсиыпйхйюяусхйьйыёсщцхуъспйхфиыёсыфсфюсфдлюяьйлысилжусюйсбпфьюлсрыфгсиьфлгстлщфьлтюфиыясфюсиыйьяысилжлсдлщёсхфиыфгюбцстлщфьлнйсыфщёнфсыйнйусдлщёсшфзьфщулыстлщфьлнбсшпфэяыёсиьфцсэязюёсисхфиыфяюиыьфъсясшфщбтяыёсюйиыфуабцспйхфиыёсхйспйхфиыёсшфхбъйгылслищястлщфьлнсиыйьяысилжлсзйхйтлгсбьлщятяьйыёсьсэязюясхфжпфсшпяюфияыёсщцхуъситйиыёлснйнялсюлбхйтясъфвбыслвфсшфиыявюбыёсюлсыфъбсшфъфтёсюфсъюфвфсщясщцхлгсюлсюбэхйцыиусьсшфъфаяслищясэяыёсыфщёнфсхщусилжусиьфяъясълщняъясзйжфыйъясфсифжиыьлююфъсжщйвфшфщбтяясыфсфысшпфэяыфвфсюлсфиыйюлыиусясищлхйслищясэлсэяыёсхщусхпбвячсыфсхпбвялсижлплвбысыфстлъбсищбэящстлъбсфыхйьйщсиящосъфэюфсшфспйзюфъбсфшплхлщуыёсдлщёсиьфлвфсибалиыьфьйюяусюфсдлщёсхфщэюйсжоыёсюйхфсяълыёсясшпяюдяшосьсэязюясфхюфсшпйьящфсьсэязюясхфщэюфсжоыёсбснйэхфвфстлщфьлнйсьслвфсдлщясэязюясьслвфсшпяюдяшйчсэязюясьслвфсшфьлхлюяясюйхфсшпфэяыёсэязюёсисхфиыфяюиыьфъстыфжосюлсиыохюфсжощфсьишфъяюйыёсхфиыфяюиыьфсыплжблысхфжпфыосьлщянфхбеяусбълюяусюлсжоыёсрвфяиыфъсжоыёсшпйьхяьоъсчфпфеяъсхпбвфъсюйчфхяыёспйхфиыёсьсшфъфаясхпбвяъспйхясхфиыфяюиыьйсэязюясюйхфсбълыёсфынйзоьйыёиусфысълщнячсбхфьфщёиыьягсясюлъйщочсыфэлсбълыёсязьяюуыёиусшпязюйьйыёсшлплхсхпбвяъясфеяжнбсщбтелстлъсьпйыёсфжъйюоьйустлщфьлнсшплэхлсьилвфсфжъйюоьйлысийъфвфсилжусяжфсфюсхбъйлыстыфсбишлеюфсифьпйщсйсщцхясшфюущясясязсхлщянйыюфиыясшпфъфщтйщясэязюёсшплэхлсьилвфсыьфптлиыьфсюфсрыфсюлсзюйтяыстыфснйэхогстлщфьлнстыфжосэяыёсхфщэлюспфхяыёиусчбхфэюянфъсжйщлпяюфгсящясбтлюоъсъфэюфсыьфпяыёсшпфиыфсхфжпбцсйыъфи лпбсьфнпбвсилжустлщфьлнсъфэлысшпяюлиыясисифжфгсйыъфи лпбсшфхфзпяылщёюфиыяснйнфвфсыфсыувфиыюфвфсъфщтйюяусйсъфэлысьюлиыясипйзбспйхфиыёсиьлысьфысрыфсяслиыёсыьфптлиыьфс'"
            ]
          },
          "metadata": {
            "tags": []
          },
          "execution_count": 20
        }
      ]
    },
    {
      "cell_type": "code",
      "metadata": {
        "id": "8VDavKxejYUp"
      },
      "source": [
        "ru_dec_key1 = decrypting(war_and_peace, test1_ru_encrypted)\n",
        "ru_dec_key2 = decrypting(ann_karenina, test1_ru_encrypted)"
      ],
      "execution_count": 23,
      "outputs": []
    },
    {
      "cell_type": "code",
      "metadata": {
        "colab": {
          "base_uri": "https://localhost:8080/",
          "height": 191
        },
        "id": "ynmejttCjwGk",
        "outputId": "fa93042d-d493-48ca-946b-52eabe6cb8f9"
      },
      "source": [
        "encrypt(test1_ru_encrypted, ru_dec_key1)"
      ],
      "execution_count": 24,
      "outputs": [
        {
          "output_type": "execute_result",
          "data": {
            "application/vnd.google.colaboratory.intrinsic+json": {
              "type": "string"
            },
            "text/plain": [
              "'гозрс паволаг точнсиавдно еве ениуеиелно лйыексаи таыа л яечне гсгуж ио хавд яечнаннуж чсрспу он наловдно рсаи таыа охангу ьо иому ксре пазо паволаг яелаи мояно туреид е о азо тсмооханга нечгош еве лйтогош атве паволаг яелаи пиоый ькенотеид вжрбм роыко оывазпсид ею тиксрснеб рслсид вжрбм ксротид ио он оханелсаи таыб нс уколна эиош тлоаш паволапнотие он тислеи таыа хавд ротиошнуж паволагс иовдго исгсб хавд ьочловбаи паволагу ькояеид тлож яечнд т ротиоентилом е ьовупеид нстиобщуж ксротид рс ксротид ьорумсшиа атве паволаг тислеи таыа чсрспаш улавепелсид л яечне роыко ькенотеид вжрбм тпстида гсгеа наурспе мозуи азо ьотиезнуид на иому ьомопд но мнозо ве вжраш на нуярсжитб л ьомоще атве яеид иовдго рвб таыб тлоеме мавгеме чсыоисме о тоытиланном ывсзоьовупее ио ои ькояеиозо на отиснаитб е тварс атве яа яеид рвб ркузею ио ркузеа тыаказуи ио паму твуяев паму оирслсв тевй мояно ьо ксчному оькаравбид хавд тлоазо тущатилолснеб но хавд ровянс ыйид нсро емаид е ькенхеьй л яечне орно ькслево л яечне ровяно ыйид у гсярозо паволагс л азо хаве яечне л азо ькенхеьсю яечне л азо ьоларанее нсро ькояеид яечнд т ротиоентилом пиоый на тийрно ыйво лтьоменсид ротиоентило икаыуаи роыкоий лавегоруцеб уманеб на ыйид эзоетиом ыйид ькслрелйм юокоцем ркузом нсюореид ксротид л ьомоще ркузем ксре ротиоентилс яечне нсро умаид оигсчйлсидтб ои мавгею уроловдтилеш е намсвйю иояа умаид ечленбидтб ькечнслсид ьакар ркуземе оцеыгу вупца пам лксид оымснйлсб паволаг ькаяра лтазо оымснйлсаи тсмозо таыб еыо он румсаи пио утьацно толксв с вжре ьонбве е еч равегсинотие ькомовпсве яечнд ькаяра лтазо илокпатило но эио на чнспеи пио гсярйш паволаг пиоый яеид ровяан кореидтб юуроянегом ысвакенош еве упанйм мояно илокеид ькотио роыкуж симотфаку логкуз таыб паволаг мояаи ькенатие т тоыош симотфаку ьорочкеиавднотие гсгозо ио ибзотинозо мовпснеб с мояаи лнатие тксчу ксротид тлаи лои эио е атид илокпатило '"
            ]
          },
          "metadata": {
            "tags": []
          },
          "execution_count": 24
        }
      ]
    },
    {
      "cell_type": "code",
      "metadata": {
        "colab": {
          "base_uri": "https://localhost:8080/",
          "height": 191
        },
        "id": "9dBkBJsrj-Xy",
        "outputId": "6ea9a648-9e0e-421a-a21e-8a79bdf9a733"
      },
      "source": [
        "encrypt(test1_ru_encrypted, ru_dec_key2)"
      ],
      "execution_count": 25,
      "outputs": [
        {
          "output_type": "execute_result",
          "data": {
            "application/vnd.google.colaboratory.intrinsic+json": {
              "type": "string"
            },
            "text/plain": [
              "'ьобрс певолеь тозисневдио ава аинуаналио лжгаксен теге л яазиа ьсьуй но хевд яазиеииуй зсрспу ои иеловдио рсен теге охеиьу ыо ному ксра пебо певолеь яален мояио туранд а о ебо тсмоохеиье иазьош ава лжтоьош етва певолеь яален пногж ыкаиотанд вйрчм рогко огвебпснд аю тнксрсиач рслснд вйрчм ксротнд но ои охеиалсен тегч ис уколие щнош тлоеш певолепиотна ои тнслан теге хевд ротношиуй певолеьс новдьо нсьсч хевд ыозловчен певолеьу ыкояанд тлой яазид т ротноаитнлом а ыовупанд истночцуй ксротнд рс ксротнд ыорумсшне етва певолеь тнслан теге зсрспеш улевапалснд л яазиа рогко ыкаиотанд вйрчм тпстнде ьсьае иеурспа мобун ебо ыотнабиунд ие ному ыомопд ио миобо ва вйреш ие иуярсйнтч л ыомоца етва яанд новдьо рвч тегч тлоама мевьама зсгонсма о тогтнлеииом гвсбоыовупаа но он ыкояанобо ие отнсиентч а тверс етва яе яанд рвч ркубаю но ркубае тгекебун но пему твуяав пему онрслсв тавж мояио ыо ксзиому оыкеревчнд хевд тлоебо туцетнлолсиач ио хевд ровяис гжнд исро аменд а ыкаихаыж л яазиа орио ыкславо л яазиа ровяио гжнд у ьсяробо певолеьс л ебо хева яазиа л ебо ыкаихаысю яазиа л ебо ыолереиаа исро ыкояанд яазид т ротноаитнлом пногж ие тнжрио гжво лтыомаиснд ротноаитнло нкегуен рогконж леваьоруэач умеиач ие гжнд щбоатном гжнд ыкслралжм юокоэам ркубом исюоранд ксротнд л ыомоца ркубам ксра ротноаитнлс яазиа исро уменд оньсзжлсндтч он мевьаю уроловдтнлаш а иемсвжю нояе уменд азлаичндтч ыказислснд ыекер ркубама оэагьу вупэе пем лкснд огмсижлсч певолеь ыкеяре лтебо огмсижлсен тсмобо тегч аго ои румсен пно утыеэио толксв с вйра ыоичва а аз реваьсниотна ыкомовпсва яазид ыкеяре лтебо нлокпетнло ио щно ие зиспан пно ьсяржш певолеь пногж яанд ровяеи корандтч юурояиаьом гсвекаиош ава упеижм мояио нлоканд ыкотно рогкуй снмотфеку лоькуб тегч певолеь мояен ыкаиетна т тогош снмотфеку ыорозканевдиотна ьсьобо но нчботниобо мовпсиач с мояен лиетна тксзу ксротнд тлен лон щно а етнд нлокпетнло '"
            ]
          },
          "metadata": {
            "tags": []
          },
          "execution_count": 25
        }
      ]
    },
    {
      "cell_type": "code",
      "metadata": {
        "id": "I2J3v_O9k-Pi"
      },
      "source": [
        "test2_ru = ann_karenina[:1000]"
      ],
      "execution_count": 26,
      "outputs": []
    },
    {
      "cell_type": "code",
      "metadata": {
        "id": "mpmqwYy0lHwn"
      },
      "source": [
        "test2_ru_encrypted = encrypt(test2_ru, ru_enc_key)"
      ],
      "execution_count": 27,
      "outputs": []
    },
    {
      "cell_type": "code",
      "metadata": {
        "id": "y2BDPMRqlWws"
      },
      "source": [
        "ru_dec_key_ann_k = decrypting(ann_karenina, test2_ru_encrypted)"
      ],
      "execution_count": 28,
      "outputs": []
    },
    {
      "cell_type": "code",
      "metadata": {
        "colab": {
          "base_uri": "https://localhost:8080/",
          "height": 191
        },
        "id": "momK3q9clf8R",
        "outputId": "f6907ad5-ac3b-4dc6-9a6f-460c5dc60537"
      },
      "source": [
        "encrypt(test2_ru_encrypted, ru_dec_key_ann_k)"
      ],
      "execution_count": 29,
      "outputs": [
        {
          "output_type": "execute_result",
          "data": {
            "application/vnd.google.colaboratory.intrinsic+json": {
              "type": "string"
            },
            "text/plain": [
              "' еаае уевнатае одта тб иерьы баернатсьы вореаол кмле сокисозо аегтаенсип иселюнй ещовтброр щвебой лин игеисктльн инрмт яоыошт двчз ае двчзе уешдеп анигеисктлеп инрмп анигеисктле яо илонрч хсо уатзе о лнгаьы фнааоиспы о кэжлт о лнвн о инрмн о гнколнгниуор доисотаислн кнл сокисойвореа ютвоуозо дьыеатп геисм янвлеп кнл сокисой еаае уевнатае вореа ютвоуозо дьыеатп еаае уевнатае яовебтке иолвнрнаатуол линданлаоисмэ иоднвшеатп аножьгейаеп иложоде веиуолеааоисм яолнислолеатп чдтлтснкмао иогнсектим л хсор вореан и фнкмаоисмэ ычдошнислнааозо лбзкпде елсове ае штбам оа льисчяек бдним уеу ычдошату т рьиктснкм т аебаегнатн тиучиисле лтднк ан л сор гсожь аноияовтро вебвнютсм лоявои е л сор гсожь беиселтсм кэжтсм штбам л жнигтикнааьы атуозде ан тисоцтрьы лины нн явоплкнатпы л н зодь одта реистсьй ятиеснкм яо лтдтрорч зоагевол иуебек доисонлиуорч хсо лнцм аникьыеааеп хсо лнцм янвлеп усо ч аеи тб ятиеснкнй рошнс яовелапсмип и хстр е л нлвоян усо явндиселтс ыосм гсо атжчдм яодожаон щ р доисонлиутй аеыо'"
            ]
          },
          "metadata": {
            "tags": []
          },
          "execution_count": 29
        }
      ]
    },
    {
      "cell_type": "markdown",
      "metadata": {
        "id": "ii-ZWduykoTH"
      },
      "source": [
        "Расшифровать не получилось ни при помощи частот букв из Анны Карениной, ни из Война и Мир. Даже не вышло зашифровав часть Анны Карениной и расшифровывая ее при помощи ее же частот. Однако пробелы расставились верно."
      ]
    },
    {
      "cell_type": "markdown",
      "metadata": {
        "id": "0kV5hxTtmq0D"
      },
      "source": [
        ""
      ]
    },
    {
      "cell_type": "code",
      "metadata": {
        "colab": {
          "base_uri": "https://localhost:8080/",
          "height": 35
        },
        "id": "Ma-5U5SLlpas",
        "outputId": "b7a8fcb4-6ee7-419e-dedd-05ee8e30397f"
      },
      "source": [
        ""
      ],
      "execution_count": 30,
      "outputs": [
        {
          "output_type": "execute_result",
          "data": {
            "application/vnd.google.colaboratory.intrinsic+json": {
              "type": "string"
            },
            "text/plain": [
              "' анна каренина один из самых з'"
            ]
          },
          "metadata": {
            "tags": []
          },
          "execution_count": 30
        }
      ]
    }
  ]
}