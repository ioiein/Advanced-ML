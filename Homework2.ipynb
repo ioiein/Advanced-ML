{
  "nbformat": 4,
  "nbformat_minor": 0,
  "metadata": {
    "colab": {
      "name": "Untitled13.ipynb",
      "provenance": [],
      "mount_file_id": "https://github.com/ioiein/Advanced-ML/blob/main/Homework2.ipynb",
      "authorship_tag": "ABX9TyNbctIoIqWV6cwO2PrhBCtf",
      "include_colab_link": true
    },
    "kernelspec": {
      "name": "python3",
      "display_name": "Python 3"
    },
    "language_info": {
      "name": "python"
    }
  },
  "cells": [
    {
      "cell_type": "markdown",
      "metadata": {
        "id": "view-in-github",
        "colab_type": "text"
      },
      "source": [
        "<a href=\"https://colab.research.google.com/github/ioiein/Advanced-ML/blob/main/Homework2.ipynb\" target=\"_parent\"><img src=\"https://colab.research.google.com/assets/colab-badge.svg\" alt=\"Open In Colab\"/></a>"
      ]
    },
    {
      "cell_type": "code",
      "metadata": {
        "id": "V3UWW25o9D9O"
      },
      "source": [
        "import pickle\n",
        "import numpy as np\n",
        "import pandas as pd\n",
        "import scipy\n",
        "import sklearn\n",
        "import sklearn.linear_model\n",
        "import sklearn.preprocessing\n",
        "import itertools"
      ],
      "execution_count": 2,
      "outputs": []
    },
    {
      "cell_type": "markdown",
      "metadata": {
        "id": "V5G2hF8Oh-iz"
      },
      "source": [
        "**Пункт 1**.\\\n",
        "Прочитайте и проанализируйте данные, выберите турниры, в которых есть данные о составах команд и повопросных результатах (поле mask в results.pkl). Для унификации предлагаю:\n",
        "взять в тренировочный набор турниры с dateStart из 2019 года; \n",
        "в тестовый — турниры с dateStart из 2020 года.\n"
      ]
    },
    {
      "cell_type": "code",
      "metadata": {
        "id": "ye4i1U5L9E8k"
      },
      "source": [
        "with open('/content/drive/MyDrive/chgk/results.pkl','rb') as f:\n",
        "  results = pickle.load(f)\n",
        "with open('/content/drive/MyDrive/chgk/players.pkl','rb') as f:\n",
        "  players = pickle.load(f)\n",
        "with open('/content/drive/MyDrive/chgk/tournaments.pkl','rb') as f:\n",
        "  tournaments = pickle.load(f)"
      ],
      "execution_count": 4,
      "outputs": []
    },
    {
      "cell_type": "code",
      "metadata": {
        "id": "K3N7pERleLN3"
      },
      "source": [
        "df_players = pd.DataFrame.from_dict(players, orient='index').set_index('id')\n",
        "df_tournaments = pd.DataFrame.from_dict(tournaments, orient='index').set_index('id')"
      ],
      "execution_count": 5,
      "outputs": []
    },
    {
      "cell_type": "code",
      "metadata": {
        "id": "TC1orhjJjqBJ"
      },
      "source": [
        "tournaments_2019 = df_tournaments[df_tournaments['dateStart'].str[0:4] == \"2019\"]\n",
        "tournaments_2020 = df_tournaments[df_tournaments['dateStart'].str[0:4] == \"2020\"]"
      ],
      "execution_count": 7,
      "outputs": []
    },
    {
      "cell_type": "code",
      "metadata": {
        "id": "z45I8bvQkH-E",
        "outputId": "b2d452b6-faa5-49f5-a2a1-bd35dd7e38d2",
        "colab": {
          "base_uri": "https://localhost:8080/",
          "height": 337
        }
      },
      "source": [
        "tournaments_2019.head(5)"
      ],
      "execution_count": 8,
      "outputs": [
        {
          "output_type": "execute_result",
          "data": {
            "text/html": [
              "<div>\n",
              "<style scoped>\n",
              "    .dataframe tbody tr th:only-of-type {\n",
              "        vertical-align: middle;\n",
              "    }\n",
              "\n",
              "    .dataframe tbody tr th {\n",
              "        vertical-align: top;\n",
              "    }\n",
              "\n",
              "    .dataframe thead th {\n",
              "        text-align: right;\n",
              "    }\n",
              "</style>\n",
              "<table border=\"1\" class=\"dataframe\">\n",
              "  <thead>\n",
              "    <tr style=\"text-align: right;\">\n",
              "      <th></th>\n",
              "      <th>name</th>\n",
              "      <th>dateStart</th>\n",
              "      <th>dateEnd</th>\n",
              "      <th>type</th>\n",
              "      <th>season</th>\n",
              "      <th>orgcommittee</th>\n",
              "      <th>synchData</th>\n",
              "      <th>questionQty</th>\n",
              "    </tr>\n",
              "    <tr>\n",
              "      <th>id</th>\n",
              "      <th></th>\n",
              "      <th></th>\n",
              "      <th></th>\n",
              "      <th></th>\n",
              "      <th></th>\n",
              "      <th></th>\n",
              "      <th></th>\n",
              "      <th></th>\n",
              "    </tr>\n",
              "  </thead>\n",
              "  <tbody>\n",
              "    <tr>\n",
              "      <th>4772</th>\n",
              "      <td>Синхрон северных стран. Зимний выпуск</td>\n",
              "      <td>2019-01-05T19:00:00+03:00</td>\n",
              "      <td>2019-01-09T19:00:00+03:00</td>\n",
              "      <td>{'id': 3, 'name': 'Синхрон'}</td>\n",
              "      <td>/seasons/52</td>\n",
              "      <td>[{'id': 28379, 'name': 'Константин', 'patronym...</td>\n",
              "      <td>{'dateRequestsAllowedTo': '2019-01-09T23:59:59...</td>\n",
              "      <td>{'1': 12, '2': 12, '3': 12}</td>\n",
              "    </tr>\n",
              "    <tr>\n",
              "      <th>4973</th>\n",
              "      <td>Балтийский Берег. 3 игра</td>\n",
              "      <td>2019-01-25T19:05:00+03:00</td>\n",
              "      <td>2019-01-29T19:00:00+03:00</td>\n",
              "      <td>{'id': 3, 'name': 'Синхрон'}</td>\n",
              "      <td>/seasons/52</td>\n",
              "      <td>[{'id': 23030, 'name': 'Марина', 'patronymic':...</td>\n",
              "      <td>{'dateRequestsAllowedTo': '2019-01-28T23:59:59...</td>\n",
              "      <td>{'1': 12, '2': 12, '3': 12}</td>\n",
              "    </tr>\n",
              "    <tr>\n",
              "      <th>4974</th>\n",
              "      <td>Балтийский Берег. 4 игра</td>\n",
              "      <td>2019-03-01T19:05:00+03:00</td>\n",
              "      <td>2019-03-05T19:00:00+03:00</td>\n",
              "      <td>{'id': 3, 'name': 'Синхрон'}</td>\n",
              "      <td>/seasons/52</td>\n",
              "      <td>[{'id': 23030, 'name': 'Марина', 'patronymic':...</td>\n",
              "      <td>{'dateRequestsAllowedTo': '2019-03-04T23:59:59...</td>\n",
              "      <td>{'1': 12, '2': 12, '3': 12}</td>\n",
              "    </tr>\n",
              "    <tr>\n",
              "      <th>4975</th>\n",
              "      <td>Балтийский Берег. 5 игра</td>\n",
              "      <td>2019-04-05T19:05:00+03:00</td>\n",
              "      <td>2019-04-09T19:00:00+03:00</td>\n",
              "      <td>{'id': 3, 'name': 'Синхрон'}</td>\n",
              "      <td>/seasons/52</td>\n",
              "      <td>[{'id': 23030, 'name': 'Марина', 'patronymic':...</td>\n",
              "      <td>{'dateRequestsAllowedTo': '2019-04-08T23:59:59...</td>\n",
              "      <td>{'1': 12, '2': 12, '3': 12}</td>\n",
              "    </tr>\n",
              "    <tr>\n",
              "      <th>4986</th>\n",
              "      <td>ОВСЧ. 6 этап</td>\n",
              "      <td>2019-02-15T20:00:00+03:00</td>\n",
              "      <td>2019-02-19T20:00:00+03:00</td>\n",
              "      <td>{'id': 3, 'name': 'Синхрон'}</td>\n",
              "      <td>/seasons/52</td>\n",
              "      <td>[{'id': 59140, 'name': 'Борис', 'patronymic': ...</td>\n",
              "      <td>{'dateRequestsAllowedTo': '2019-02-19T23:59:59...</td>\n",
              "      <td>{'1': 12, '2': 12, '3': 12}</td>\n",
              "    </tr>\n",
              "  </tbody>\n",
              "</table>\n",
              "</div>"
            ],
            "text/plain": [
              "                                       name  ...                  questionQty\n",
              "id                                           ...                             \n",
              "4772  Синхрон северных стран. Зимний выпуск  ...  {'1': 12, '2': 12, '3': 12}\n",
              "4973               Балтийский Берег. 3 игра  ...  {'1': 12, '2': 12, '3': 12}\n",
              "4974               Балтийский Берег. 4 игра  ...  {'1': 12, '2': 12, '3': 12}\n",
              "4975               Балтийский Берег. 5 игра  ...  {'1': 12, '2': 12, '3': 12}\n",
              "4986                           ОВСЧ. 6 этап  ...  {'1': 12, '2': 12, '3': 12}\n",
              "\n",
              "[5 rows x 8 columns]"
            ]
          },
          "metadata": {
            "tags": []
          },
          "execution_count": 8
        }
      ]
    },
    {
      "cell_type": "code",
      "metadata": {
        "id": "lhU3gyHKkny7",
        "outputId": "a0cc8048-355f-49f1-d0a9-39df8a93a573",
        "colab": {
          "base_uri": "https://localhost:8080/",
          "height": 319
        }
      },
      "source": [
        "tournaments_2020.head(5)"
      ],
      "execution_count": 9,
      "outputs": [
        {
          "output_type": "execute_result",
          "data": {
            "text/html": [
              "<div>\n",
              "<style scoped>\n",
              "    .dataframe tbody tr th:only-of-type {\n",
              "        vertical-align: middle;\n",
              "    }\n",
              "\n",
              "    .dataframe tbody tr th {\n",
              "        vertical-align: top;\n",
              "    }\n",
              "\n",
              "    .dataframe thead th {\n",
              "        text-align: right;\n",
              "    }\n",
              "</style>\n",
              "<table border=\"1\" class=\"dataframe\">\n",
              "  <thead>\n",
              "    <tr style=\"text-align: right;\">\n",
              "      <th></th>\n",
              "      <th>name</th>\n",
              "      <th>dateStart</th>\n",
              "      <th>dateEnd</th>\n",
              "      <th>type</th>\n",
              "      <th>season</th>\n",
              "      <th>orgcommittee</th>\n",
              "      <th>synchData</th>\n",
              "      <th>questionQty</th>\n",
              "    </tr>\n",
              "    <tr>\n",
              "      <th>id</th>\n",
              "      <th></th>\n",
              "      <th></th>\n",
              "      <th></th>\n",
              "      <th></th>\n",
              "      <th></th>\n",
              "      <th></th>\n",
              "      <th></th>\n",
              "      <th></th>\n",
              "    </tr>\n",
              "  </thead>\n",
              "  <tbody>\n",
              "    <tr>\n",
              "      <th>4628</th>\n",
              "      <td>Семь сорок</td>\n",
              "      <td>2020-12-30T16:00:00+03:00</td>\n",
              "      <td>2020-12-30T16:00:00+03:00</td>\n",
              "      <td>{'id': 3, 'name': 'Синхрон'}</td>\n",
              "      <td>None</td>\n",
              "      <td>[{'id': 7533, 'name': 'Денис', 'patronymic': '...</td>\n",
              "      <td>{'dateRequestsAllowedTo': '2020-12-30T23:55:00...</td>\n",
              "      <td>{'1': 12, '2': 12, '3': 12}</td>\n",
              "    </tr>\n",
              "    <tr>\n",
              "      <th>4957</th>\n",
              "      <td>Синхрон Биркиркары</td>\n",
              "      <td>2020-02-21T00:00:00+03:00</td>\n",
              "      <td>2020-02-27T23:00:00+03:00</td>\n",
              "      <td>{'id': 3, 'name': 'Синхрон'}</td>\n",
              "      <td>/seasons/53</td>\n",
              "      <td>[{'id': 2421, 'name': 'Ася', 'patronymic': 'Се...</td>\n",
              "      <td>{'dateRequestsAllowedTo': '2020-02-27T18:00:00...</td>\n",
              "      <td>{'1': 13, '2': 13, '3': 13}</td>\n",
              "    </tr>\n",
              "    <tr>\n",
              "      <th>5151</th>\n",
              "      <td>Яровой</td>\n",
              "      <td>2020-08-01T14:00:00+03:00</td>\n",
              "      <td>2020-08-05T14:00:00+03:00</td>\n",
              "      <td>{'id': 3, 'name': 'Синхрон'}</td>\n",
              "      <td>/seasons/53</td>\n",
              "      <td>[{'id': 22325, 'name': 'Михаил', 'patronymic':...</td>\n",
              "      <td>{'dateRequestsAllowedTo': '2020-07-24T23:59:59...</td>\n",
              "      <td>{'1': 12, '2': 12, '3': 12}</td>\n",
              "    </tr>\n",
              "    <tr>\n",
              "      <th>5414</th>\n",
              "      <td>Синхрон северных стран</td>\n",
              "      <td>2020-01-03T19:00:00+03:00</td>\n",
              "      <td>2020-01-10T19:00:00+03:00</td>\n",
              "      <td>{'id': 3, 'name': 'Синхрон'}</td>\n",
              "      <td>/seasons/53</td>\n",
              "      <td>[{'id': 28379, 'name': 'Константин', 'patronym...</td>\n",
              "      <td>{'dateRequestsAllowedTo': '2020-01-10T23:59:00...</td>\n",
              "      <td>{'1': 12, '2': 12, '3': 12}</td>\n",
              "    </tr>\n",
              "    <tr>\n",
              "      <th>5477</th>\n",
              "      <td>Онлайн: Синхрон Урюбджирова</td>\n",
              "      <td>2020-04-18T19:00:00+03:00</td>\n",
              "      <td>2020-04-30T19:00:00+03:00</td>\n",
              "      <td>{'id': 8, 'name': 'Асинхрон'}</td>\n",
              "      <td>/seasons/53</td>\n",
              "      <td>[{'id': 91324, 'name': 'Эрдни', 'patronymic': ...</td>\n",
              "      <td>{'dateRequestsAllowedTo': '2020-04-30T23:55:00...</td>\n",
              "      <td>{'1': 12, '2': 12, '3': 12}</td>\n",
              "    </tr>\n",
              "  </tbody>\n",
              "</table>\n",
              "</div>"
            ],
            "text/plain": [
              "                             name  ...                  questionQty\n",
              "id                                 ...                             \n",
              "4628                   Семь сорок  ...  {'1': 12, '2': 12, '3': 12}\n",
              "4957           Синхрон Биркиркары  ...  {'1': 13, '2': 13, '3': 13}\n",
              "5151                       Яровой  ...  {'1': 12, '2': 12, '3': 12}\n",
              "5414       Синхрон северных стран  ...  {'1': 12, '2': 12, '3': 12}\n",
              "5477  Онлайн: Синхрон Урюбджирова  ...  {'1': 12, '2': 12, '3': 12}\n",
              "\n",
              "[5 rows x 8 columns]"
            ]
          },
          "metadata": {
            "tags": []
          },
          "execution_count": 9
        }
      ]
    },
    {
      "cell_type": "code",
      "metadata": {
        "id": "C7Wa4NSrkumf"
      },
      "source": [
        "#составим DataFrame с полями tournament_id, team_id, position, player_id, mask и mask_len(она понадобится для выкидывания турниров с неодинаковыми масками)\n",
        "tournament_list = []\n",
        "player_list = []\n",
        "team_list = []\n",
        "mask_list = []\n",
        "pos_list = []\n",
        "\n",
        "for tournament_id in results.keys():\n",
        "    if (tournament_id in np.concatenate((tournaments_2019.index, tournaments_2020.index))):\n",
        "        for team in results[tournament_id]:\n",
        "            if 'mask' in team:\n",
        "                mask = team['mask']\n",
        "                position = team['position']\n",
        "                team_id = team['team']['id']\n",
        "                for member in team['teamMembers']:\n",
        "                    tournament_list.append(tournament_id)\n",
        "                    mask_list.append(mask)\n",
        "                    pos_list.append(position)\n",
        "                    team_list.append(team_id)\n",
        "                    player_list.append(member['player']['id'])\n",
        "df_players_in_tournaments = pd.DataFrame({'tournament_id': tournament_list,\n",
        "                   'team_id': team_list,\n",
        "                   'position': pos_list,\n",
        "                   'player_id': player_list,\n",
        "                   'mask': mask_list\n",
        "             })\n",
        "df_players_in_tournaments = df_players_in_tournaments[~df_players_in_tournaments['mask'].isna()]\n",
        "df_players_in_tournaments['mask_len'] = df_players_in_tournaments['mask'].str.len()\n",
        "\n",
        "#оставляем только турниры с одинаковыми масками\n",
        "same_masks = df_players_in_tournaments.groupby('tournament_id')['mask_len'].nunique().eq(1)\n",
        "same_masks = same_masks[same_masks]\n",
        "df_players_in_tournaments = df_players_in_tournaments[df_players_in_tournaments['tournament_id'].isin(same_masks.index)]"
      ],
      "execution_count": 17,
      "outputs": []
    },
    {
      "cell_type": "code",
      "metadata": {
        "id": "RJezuIr2nL0X",
        "outputId": "0caa3065-fe20-46a8-c94f-68b2d99ff0ca",
        "colab": {
          "base_uri": "https://localhost:8080/",
          "height": 415
        }
      },
      "source": [
        "df_players_in_tournaments"
      ],
      "execution_count": 18,
      "outputs": [
        {
          "output_type": "execute_result",
          "data": {
            "text/html": [
              "<div>\n",
              "<style scoped>\n",
              "    .dataframe tbody tr th:only-of-type {\n",
              "        vertical-align: middle;\n",
              "    }\n",
              "\n",
              "    .dataframe tbody tr th {\n",
              "        vertical-align: top;\n",
              "    }\n",
              "\n",
              "    .dataframe thead th {\n",
              "        text-align: right;\n",
              "    }\n",
              "</style>\n",
              "<table border=\"1\" class=\"dataframe\">\n",
              "  <thead>\n",
              "    <tr style=\"text-align: right;\">\n",
              "      <th></th>\n",
              "      <th>tournament_id</th>\n",
              "      <th>team_id</th>\n",
              "      <th>position</th>\n",
              "      <th>player_id</th>\n",
              "      <th>mask</th>\n",
              "      <th>mask_len</th>\n",
              "    </tr>\n",
              "  </thead>\n",
              "  <tbody>\n",
              "    <tr>\n",
              "      <th>0</th>\n",
              "      <td>4772</td>\n",
              "      <td>45556</td>\n",
              "      <td>1.0</td>\n",
              "      <td>6212</td>\n",
              "      <td>111111111011111110111111111100010010</td>\n",
              "      <td>36</td>\n",
              "    </tr>\n",
              "    <tr>\n",
              "      <th>1</th>\n",
              "      <td>4772</td>\n",
              "      <td>45556</td>\n",
              "      <td>1.0</td>\n",
              "      <td>18332</td>\n",
              "      <td>111111111011111110111111111100010010</td>\n",
              "      <td>36</td>\n",
              "    </tr>\n",
              "    <tr>\n",
              "      <th>2</th>\n",
              "      <td>4772</td>\n",
              "      <td>45556</td>\n",
              "      <td>1.0</td>\n",
              "      <td>18036</td>\n",
              "      <td>111111111011111110111111111100010010</td>\n",
              "      <td>36</td>\n",
              "    </tr>\n",
              "    <tr>\n",
              "      <th>3</th>\n",
              "      <td>4772</td>\n",
              "      <td>45556</td>\n",
              "      <td>1.0</td>\n",
              "      <td>22799</td>\n",
              "      <td>111111111011111110111111111100010010</td>\n",
              "      <td>36</td>\n",
              "    </tr>\n",
              "    <tr>\n",
              "      <th>4</th>\n",
              "      <td>4772</td>\n",
              "      <td>45556</td>\n",
              "      <td>1.0</td>\n",
              "      <td>15456</td>\n",
              "      <td>111111111011111110111111111100010010</td>\n",
              "      <td>36</td>\n",
              "    </tr>\n",
              "    <tr>\n",
              "      <th>...</th>\n",
              "      <td>...</td>\n",
              "      <td>...</td>\n",
              "      <td>...</td>\n",
              "      <td>...</td>\n",
              "      <td>...</td>\n",
              "      <td>...</td>\n",
              "    </tr>\n",
              "    <tr>\n",
              "      <th>566075</th>\n",
              "      <td>6456</td>\n",
              "      <td>69918</td>\n",
              "      <td>6.0</td>\n",
              "      <td>129706</td>\n",
              "      <td>100101101100100100010110100100010001010</td>\n",
              "      <td>39</td>\n",
              "    </tr>\n",
              "    <tr>\n",
              "      <th>566076</th>\n",
              "      <td>6456</td>\n",
              "      <td>69918</td>\n",
              "      <td>6.0</td>\n",
              "      <td>192901</td>\n",
              "      <td>100101101100100100010110100100010001010</td>\n",
              "      <td>39</td>\n",
              "    </tr>\n",
              "    <tr>\n",
              "      <th>566077</th>\n",
              "      <td>6456</td>\n",
              "      <td>63129</td>\n",
              "      <td>7.0</td>\n",
              "      <td>165962</td>\n",
              "      <td>101000100110000110001000101000010100001</td>\n",
              "      <td>39</td>\n",
              "    </tr>\n",
              "    <tr>\n",
              "      <th>566078</th>\n",
              "      <td>6456</td>\n",
              "      <td>63129</td>\n",
              "      <td>7.0</td>\n",
              "      <td>154624</td>\n",
              "      <td>101000100110000110001000101000010100001</td>\n",
              "      <td>39</td>\n",
              "    </tr>\n",
              "    <tr>\n",
              "      <th>566079</th>\n",
              "      <td>6456</td>\n",
              "      <td>63129</td>\n",
              "      <td>7.0</td>\n",
              "      <td>224329</td>\n",
              "      <td>101000100110000110001000101000010100001</td>\n",
              "      <td>39</td>\n",
              "    </tr>\n",
              "  </tbody>\n",
              "</table>\n",
              "<p>511351 rows × 6 columns</p>\n",
              "</div>"
            ],
            "text/plain": [
              "        tournament_id  ...  mask_len\n",
              "0                4772  ...        36\n",
              "1                4772  ...        36\n",
              "2                4772  ...        36\n",
              "3                4772  ...        36\n",
              "4                4772  ...        36\n",
              "...               ...  ...       ...\n",
              "566075           6456  ...        39\n",
              "566076           6456  ...        39\n",
              "566077           6456  ...        39\n",
              "566078           6456  ...        39\n",
              "566079           6456  ...        39\n",
              "\n",
              "[511351 rows x 6 columns]"
            ]
          },
          "metadata": {
            "tags": []
          },
          "execution_count": 18
        }
      ]
    },
    {
      "cell_type": "code",
      "metadata": {
        "id": "DOKp5dNCnkzM",
        "outputId": "5ce2addb-bd08-4f63-e0f4-7a113b39466c",
        "colab": {
          "base_uri": "https://localhost:8080/",
          "height": 235
        }
      },
      "source": [
        "questions = []\n",
        "for l in df_players_in_tournaments['mask_len']:\n",
        "    questions.extend(np.arange(1, l + 1))\n",
        "    \n",
        "player_question = pd.DataFrame({\n",
        "    'tournament_id': np.repeat(df_players_in_tournaments['tournament_id'], df_players_in_tournaments['mask_len']),\n",
        "    'team_id': np.repeat(df_players_in_tournaments['team_id'], df_players_in_tournaments['mask_len']),\n",
        "    'position': np.repeat(df_players_in_tournaments['position'], df_players_in_tournaments['mask_len']),\n",
        "    'player': np.repeat(df_players_in_tournaments['player_id'], df_players_in_tournaments['mask_len']),\n",
        "    'quest_num': questions,\n",
        "    'correct': list(chain.from_iterable(df_players_in_tournaments['mask']))\n",
        "})\n",
        "player_question['tournament_question'] = all_q['tournament_id'].astype(str) + '_' + all_q['question_num'].astype(str)\n",
        "\n",
        "bad_ans = player_question[player_question['correct'].isin(['?', 'X'])]\n",
        "player_question = player_question[~player_question['tournamnet_question'].isin(bad_ans['tournament_question'])]\n",
        "player_question.loc[:, 'correct'] = player_question['correct'].astype(int, copy=False)"
      ],
      "execution_count": 19,
      "outputs": [
        {
          "output_type": "error",
          "ename": "NameError",
          "evalue": "ignored",
          "traceback": [
            "\u001b[0;31m---------------------------------------------------------------------------\u001b[0m",
            "\u001b[0;31mNameError\u001b[0m                                 Traceback (most recent call last)",
            "\u001b[0;32m<ipython-input-19-0697a923b258>\u001b[0m in \u001b[0;36m<module>\u001b[0;34m()\u001b[0m\n\u001b[1;32m      9\u001b[0m     \u001b[0;34m'player'\u001b[0m\u001b[0;34m:\u001b[0m \u001b[0mnp\u001b[0m\u001b[0;34m.\u001b[0m\u001b[0mrepeat\u001b[0m\u001b[0;34m(\u001b[0m\u001b[0mdf_players_in_tournaments\u001b[0m\u001b[0;34m[\u001b[0m\u001b[0;34m'player_id'\u001b[0m\u001b[0;34m]\u001b[0m\u001b[0;34m,\u001b[0m \u001b[0mdf_players_in_tournaments\u001b[0m\u001b[0;34m[\u001b[0m\u001b[0;34m'mask_len'\u001b[0m\u001b[0;34m]\u001b[0m\u001b[0;34m)\u001b[0m\u001b[0;34m,\u001b[0m\u001b[0;34m\u001b[0m\u001b[0;34m\u001b[0m\u001b[0m\n\u001b[1;32m     10\u001b[0m     \u001b[0;34m'quest_num'\u001b[0m\u001b[0;34m:\u001b[0m \u001b[0mquestions\u001b[0m\u001b[0;34m,\u001b[0m\u001b[0;34m\u001b[0m\u001b[0;34m\u001b[0m\u001b[0m\n\u001b[0;32m---> 11\u001b[0;31m     \u001b[0;34m'correct'\u001b[0m\u001b[0;34m:\u001b[0m \u001b[0mlist\u001b[0m\u001b[0;34m(\u001b[0m\u001b[0mchain\u001b[0m\u001b[0;34m.\u001b[0m\u001b[0mfrom_iterable\u001b[0m\u001b[0;34m(\u001b[0m\u001b[0mdf_players_in_tournaments\u001b[0m\u001b[0;34m[\u001b[0m\u001b[0;34m'mask'\u001b[0m\u001b[0;34m]\u001b[0m\u001b[0;34m)\u001b[0m\u001b[0;34m)\u001b[0m\u001b[0;34m\u001b[0m\u001b[0;34m\u001b[0m\u001b[0m\n\u001b[0m\u001b[1;32m     12\u001b[0m })\n\u001b[1;32m     13\u001b[0m \u001b[0mplayer_question\u001b[0m\u001b[0;34m[\u001b[0m\u001b[0;34m'tournament_question'\u001b[0m\u001b[0;34m]\u001b[0m \u001b[0;34m=\u001b[0m \u001b[0mall_q\u001b[0m\u001b[0;34m[\u001b[0m\u001b[0;34m'tournament_id'\u001b[0m\u001b[0;34m]\u001b[0m\u001b[0;34m.\u001b[0m\u001b[0mastype\u001b[0m\u001b[0;34m(\u001b[0m\u001b[0mstr\u001b[0m\u001b[0;34m)\u001b[0m \u001b[0;34m+\u001b[0m \u001b[0;34m'_'\u001b[0m \u001b[0;34m+\u001b[0m \u001b[0mall_q\u001b[0m\u001b[0;34m[\u001b[0m\u001b[0;34m'question_num'\u001b[0m\u001b[0;34m]\u001b[0m\u001b[0;34m.\u001b[0m\u001b[0mastype\u001b[0m\u001b[0;34m(\u001b[0m\u001b[0mstr\u001b[0m\u001b[0;34m)\u001b[0m\u001b[0;34m\u001b[0m\u001b[0;34m\u001b[0m\u001b[0m\n",
            "\u001b[0;31mNameError\u001b[0m: name 'chain' is not defined"
          ]
        }
      ]
    },
    {
      "cell_type": "code",
      "metadata": {
        "id": "CEeZWDEHp0C0"
      },
      "source": [
        ""
      ],
      "execution_count": null,
      "outputs": []
    }
  ]
}