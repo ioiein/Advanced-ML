{
  "nbformat": 4,
  "nbformat_minor": 0,
  "metadata": {
    "colab": {
      "name": "Untitled13.ipynb",
      "provenance": [],
      "mount_file_id": "https://github.com/ioiein/Advanced-ML/blob/main/Homework2.ipynb",
      "authorship_tag": "ABX9TyNGHEfdfW1kdWyKI9pMhPgZ",
      "include_colab_link": true
    },
    "kernelspec": {
      "name": "python3",
      "display_name": "Python 3"
    },
    "language_info": {
      "name": "python"
    }
  },
  "cells": [
    {
      "cell_type": "markdown",
      "metadata": {
        "id": "view-in-github",
        "colab_type": "text"
      },
      "source": [
        "<a href=\"https://colab.research.google.com/github/ioiein/Advanced-ML/blob/main/Homework2.ipynb\" target=\"_parent\"><img src=\"https://colab.research.google.com/assets/colab-badge.svg\" alt=\"Open In Colab\"/></a>"
      ]
    },
    {
      "cell_type": "code",
      "metadata": {
        "id": "V3UWW25o9D9O"
      },
      "source": [
        "import pickle\n",
        "import numpy as np\n",
        "import pandas as pd\n",
        "import scipy\n",
        "import sklearn\n",
        "import sklearn.linear_model\n",
        "import sklearn.preprocessing\n",
        "import itertools"
      ],
      "execution_count": 1,
      "outputs": []
    },
    {
      "cell_type": "markdown",
      "metadata": {
        "id": "V5G2hF8Oh-iz"
      },
      "source": [
        "**Пункт 1**.\\\n",
        "Прочитайте и проанализируйте данные, выберите турниры, в которых есть данные о составах команд и повопросных результатах (поле mask в results.pkl). Для унификации предлагаю:\n",
        "взять в тренировочный набор турниры с dateStart из 2019 года; \n",
        "в тестовый — турниры с dateStart из 2020 года.\n"
      ]
    },
    {
      "cell_type": "code",
      "metadata": {
        "id": "ye4i1U5L9E8k"
      },
      "source": [
        "with open('/content/drive/MyDrive/chgk/results.pkl','rb') as f:\n",
        "  results = pickle.load(f)\n",
        "with open('/content/drive/MyDrive/chgk/players.pkl','rb') as f:\n",
        "  players = pickle.load(f)\n",
        "with open('/content/drive/MyDrive/chgk/tournaments.pkl','rb') as f:\n",
        "  tournaments = pickle.load(f)"
      ],
      "execution_count": 2,
      "outputs": []
    },
    {
      "cell_type": "code",
      "metadata": {
        "id": "K3N7pERleLN3"
      },
      "source": [
        "df_players = pd.DataFrame.from_dict(players, orient='index').set_index('id')\n",
        "df_tournaments = pd.DataFrame.from_dict(tournaments, orient='index').set_index('id')"
      ],
      "execution_count": 3,
      "outputs": []
    },
    {
      "cell_type": "code",
      "metadata": {
        "id": "TC1orhjJjqBJ"
      },
      "source": [
        "tournaments_2019 = df_tournaments[df_tournaments['dateStart'].str[0:4] == \"2019\"]\n",
        "tournaments_2020 = df_tournaments[df_tournaments['dateStart'].str[0:4] == \"2020\"]"
      ],
      "execution_count": 4,
      "outputs": []
    },
    {
      "cell_type": "code",
      "metadata": {
        "colab": {
          "base_uri": "https://localhost:8080/",
          "height": 337
        },
        "id": "z45I8bvQkH-E",
        "outputId": "a874f5a2-4b5d-41d1-9ffd-10b12c6cf03f"
      },
      "source": [
        "tournaments_2019.head(5)"
      ],
      "execution_count": 5,
      "outputs": [
        {
          "output_type": "execute_result",
          "data": {
            "text/html": [
              "<div>\n",
              "<style scoped>\n",
              "    .dataframe tbody tr th:only-of-type {\n",
              "        vertical-align: middle;\n",
              "    }\n",
              "\n",
              "    .dataframe tbody tr th {\n",
              "        vertical-align: top;\n",
              "    }\n",
              "\n",
              "    .dataframe thead th {\n",
              "        text-align: right;\n",
              "    }\n",
              "</style>\n",
              "<table border=\"1\" class=\"dataframe\">\n",
              "  <thead>\n",
              "    <tr style=\"text-align: right;\">\n",
              "      <th></th>\n",
              "      <th>name</th>\n",
              "      <th>dateStart</th>\n",
              "      <th>dateEnd</th>\n",
              "      <th>type</th>\n",
              "      <th>season</th>\n",
              "      <th>orgcommittee</th>\n",
              "      <th>synchData</th>\n",
              "      <th>questionQty</th>\n",
              "    </tr>\n",
              "    <tr>\n",
              "      <th>id</th>\n",
              "      <th></th>\n",
              "      <th></th>\n",
              "      <th></th>\n",
              "      <th></th>\n",
              "      <th></th>\n",
              "      <th></th>\n",
              "      <th></th>\n",
              "      <th></th>\n",
              "    </tr>\n",
              "  </thead>\n",
              "  <tbody>\n",
              "    <tr>\n",
              "      <th>4772</th>\n",
              "      <td>Синхрон северных стран. Зимний выпуск</td>\n",
              "      <td>2019-01-05T19:00:00+03:00</td>\n",
              "      <td>2019-01-09T19:00:00+03:00</td>\n",
              "      <td>{'id': 3, 'name': 'Синхрон'}</td>\n",
              "      <td>/seasons/52</td>\n",
              "      <td>[{'id': 28379, 'name': 'Константин', 'patronym...</td>\n",
              "      <td>{'dateRequestsAllowedTo': '2019-01-09T23:59:59...</td>\n",
              "      <td>{'1': 12, '2': 12, '3': 12}</td>\n",
              "    </tr>\n",
              "    <tr>\n",
              "      <th>4973</th>\n",
              "      <td>Балтийский Берег. 3 игра</td>\n",
              "      <td>2019-01-25T19:05:00+03:00</td>\n",
              "      <td>2019-01-29T19:00:00+03:00</td>\n",
              "      <td>{'id': 3, 'name': 'Синхрон'}</td>\n",
              "      <td>/seasons/52</td>\n",
              "      <td>[{'id': 23030, 'name': 'Марина', 'patronymic':...</td>\n",
              "      <td>{'dateRequestsAllowedTo': '2019-01-28T23:59:59...</td>\n",
              "      <td>{'1': 12, '2': 12, '3': 12}</td>\n",
              "    </tr>\n",
              "    <tr>\n",
              "      <th>4974</th>\n",
              "      <td>Балтийский Берег. 4 игра</td>\n",
              "      <td>2019-03-01T19:05:00+03:00</td>\n",
              "      <td>2019-03-05T19:00:00+03:00</td>\n",
              "      <td>{'id': 3, 'name': 'Синхрон'}</td>\n",
              "      <td>/seasons/52</td>\n",
              "      <td>[{'id': 23030, 'name': 'Марина', 'patronymic':...</td>\n",
              "      <td>{'dateRequestsAllowedTo': '2019-03-04T23:59:59...</td>\n",
              "      <td>{'1': 12, '2': 12, '3': 12}</td>\n",
              "    </tr>\n",
              "    <tr>\n",
              "      <th>4975</th>\n",
              "      <td>Балтийский Берег. 5 игра</td>\n",
              "      <td>2019-04-05T19:05:00+03:00</td>\n",
              "      <td>2019-04-09T19:00:00+03:00</td>\n",
              "      <td>{'id': 3, 'name': 'Синхрон'}</td>\n",
              "      <td>/seasons/52</td>\n",
              "      <td>[{'id': 23030, 'name': 'Марина', 'patronymic':...</td>\n",
              "      <td>{'dateRequestsAllowedTo': '2019-04-08T23:59:59...</td>\n",
              "      <td>{'1': 12, '2': 12, '3': 12}</td>\n",
              "    </tr>\n",
              "    <tr>\n",
              "      <th>4986</th>\n",
              "      <td>ОВСЧ. 6 этап</td>\n",
              "      <td>2019-02-15T20:00:00+03:00</td>\n",
              "      <td>2019-02-19T20:00:00+03:00</td>\n",
              "      <td>{'id': 3, 'name': 'Синхрон'}</td>\n",
              "      <td>/seasons/52</td>\n",
              "      <td>[{'id': 59140, 'name': 'Борис', 'patronymic': ...</td>\n",
              "      <td>{'dateRequestsAllowedTo': '2019-02-19T23:59:59...</td>\n",
              "      <td>{'1': 12, '2': 12, '3': 12}</td>\n",
              "    </tr>\n",
              "  </tbody>\n",
              "</table>\n",
              "</div>"
            ],
            "text/plain": [
              "                                       name  ...                  questionQty\n",
              "id                                           ...                             \n",
              "4772  Синхрон северных стран. Зимний выпуск  ...  {'1': 12, '2': 12, '3': 12}\n",
              "4973               Балтийский Берег. 3 игра  ...  {'1': 12, '2': 12, '3': 12}\n",
              "4974               Балтийский Берег. 4 игра  ...  {'1': 12, '2': 12, '3': 12}\n",
              "4975               Балтийский Берег. 5 игра  ...  {'1': 12, '2': 12, '3': 12}\n",
              "4986                           ОВСЧ. 6 этап  ...  {'1': 12, '2': 12, '3': 12}\n",
              "\n",
              "[5 rows x 8 columns]"
            ]
          },
          "metadata": {
            "tags": []
          },
          "execution_count": 5
        }
      ]
    },
    {
      "cell_type": "code",
      "metadata": {
        "colab": {
          "base_uri": "https://localhost:8080/",
          "height": 319
        },
        "id": "lhU3gyHKkny7",
        "outputId": "c839bfdd-2f30-46ff-cbfa-f73c076e65ad"
      },
      "source": [
        "tournaments_2020.head(5)"
      ],
      "execution_count": 6,
      "outputs": [
        {
          "output_type": "execute_result",
          "data": {
            "text/html": [
              "<div>\n",
              "<style scoped>\n",
              "    .dataframe tbody tr th:only-of-type {\n",
              "        vertical-align: middle;\n",
              "    }\n",
              "\n",
              "    .dataframe tbody tr th {\n",
              "        vertical-align: top;\n",
              "    }\n",
              "\n",
              "    .dataframe thead th {\n",
              "        text-align: right;\n",
              "    }\n",
              "</style>\n",
              "<table border=\"1\" class=\"dataframe\">\n",
              "  <thead>\n",
              "    <tr style=\"text-align: right;\">\n",
              "      <th></th>\n",
              "      <th>name</th>\n",
              "      <th>dateStart</th>\n",
              "      <th>dateEnd</th>\n",
              "      <th>type</th>\n",
              "      <th>season</th>\n",
              "      <th>orgcommittee</th>\n",
              "      <th>synchData</th>\n",
              "      <th>questionQty</th>\n",
              "    </tr>\n",
              "    <tr>\n",
              "      <th>id</th>\n",
              "      <th></th>\n",
              "      <th></th>\n",
              "      <th></th>\n",
              "      <th></th>\n",
              "      <th></th>\n",
              "      <th></th>\n",
              "      <th></th>\n",
              "      <th></th>\n",
              "    </tr>\n",
              "  </thead>\n",
              "  <tbody>\n",
              "    <tr>\n",
              "      <th>4628</th>\n",
              "      <td>Семь сорок</td>\n",
              "      <td>2020-12-30T16:00:00+03:00</td>\n",
              "      <td>2020-12-30T16:00:00+03:00</td>\n",
              "      <td>{'id': 3, 'name': 'Синхрон'}</td>\n",
              "      <td>None</td>\n",
              "      <td>[{'id': 7533, 'name': 'Денис', 'patronymic': '...</td>\n",
              "      <td>{'dateRequestsAllowedTo': '2020-12-30T23:55:00...</td>\n",
              "      <td>{'1': 12, '2': 12, '3': 12}</td>\n",
              "    </tr>\n",
              "    <tr>\n",
              "      <th>4957</th>\n",
              "      <td>Синхрон Биркиркары</td>\n",
              "      <td>2020-02-21T00:00:00+03:00</td>\n",
              "      <td>2020-02-27T23:00:00+03:00</td>\n",
              "      <td>{'id': 3, 'name': 'Синхрон'}</td>\n",
              "      <td>/seasons/53</td>\n",
              "      <td>[{'id': 2421, 'name': 'Ася', 'patronymic': 'Се...</td>\n",
              "      <td>{'dateRequestsAllowedTo': '2020-02-27T18:00:00...</td>\n",
              "      <td>{'1': 13, '2': 13, '3': 13}</td>\n",
              "    </tr>\n",
              "    <tr>\n",
              "      <th>5151</th>\n",
              "      <td>Яровой</td>\n",
              "      <td>2020-08-01T14:00:00+03:00</td>\n",
              "      <td>2020-08-05T14:00:00+03:00</td>\n",
              "      <td>{'id': 3, 'name': 'Синхрон'}</td>\n",
              "      <td>/seasons/53</td>\n",
              "      <td>[{'id': 22325, 'name': 'Михаил', 'patronymic':...</td>\n",
              "      <td>{'dateRequestsAllowedTo': '2020-07-24T23:59:59...</td>\n",
              "      <td>{'1': 12, '2': 12, '3': 12}</td>\n",
              "    </tr>\n",
              "    <tr>\n",
              "      <th>5414</th>\n",
              "      <td>Синхрон северных стран</td>\n",
              "      <td>2020-01-03T19:00:00+03:00</td>\n",
              "      <td>2020-01-10T19:00:00+03:00</td>\n",
              "      <td>{'id': 3, 'name': 'Синхрон'}</td>\n",
              "      <td>/seasons/53</td>\n",
              "      <td>[{'id': 28379, 'name': 'Константин', 'patronym...</td>\n",
              "      <td>{'dateRequestsAllowedTo': '2020-01-10T23:59:00...</td>\n",
              "      <td>{'1': 12, '2': 12, '3': 12}</td>\n",
              "    </tr>\n",
              "    <tr>\n",
              "      <th>5477</th>\n",
              "      <td>Онлайн: Синхрон Урюбджирова</td>\n",
              "      <td>2020-04-18T19:00:00+03:00</td>\n",
              "      <td>2020-04-30T19:00:00+03:00</td>\n",
              "      <td>{'id': 8, 'name': 'Асинхрон'}</td>\n",
              "      <td>/seasons/53</td>\n",
              "      <td>[{'id': 91324, 'name': 'Эрдни', 'patronymic': ...</td>\n",
              "      <td>{'dateRequestsAllowedTo': '2020-04-30T23:55:00...</td>\n",
              "      <td>{'1': 12, '2': 12, '3': 12}</td>\n",
              "    </tr>\n",
              "  </tbody>\n",
              "</table>\n",
              "</div>"
            ],
            "text/plain": [
              "                             name  ...                  questionQty\n",
              "id                                 ...                             \n",
              "4628                   Семь сорок  ...  {'1': 12, '2': 12, '3': 12}\n",
              "4957           Синхрон Биркиркары  ...  {'1': 13, '2': 13, '3': 13}\n",
              "5151                       Яровой  ...  {'1': 12, '2': 12, '3': 12}\n",
              "5414       Синхрон северных стран  ...  {'1': 12, '2': 12, '3': 12}\n",
              "5477  Онлайн: Синхрон Урюбджирова  ...  {'1': 12, '2': 12, '3': 12}\n",
              "\n",
              "[5 rows x 8 columns]"
            ]
          },
          "metadata": {
            "tags": []
          },
          "execution_count": 6
        }
      ]
    },
    {
      "cell_type": "code",
      "metadata": {
        "id": "C7Wa4NSrkumf"
      },
      "source": [
        "#составим DataFrame с полями tournament_id, team_id, position, player_id, mask и mask_len(она понадобится для выкидывания турниров с неодинаковыми масками)\n",
        "tournament_list = []\n",
        "player_list = []\n",
        "team_list = []\n",
        "mask_list = []\n",
        "pos_list = []\n",
        "\n",
        "for tournament_id in results.keys():\n",
        "    if (tournament_id in np.concatenate((tournaments_2019.index, tournaments_2020.index))):\n",
        "        for team in results[tournament_id]:\n",
        "            if 'mask' in team:\n",
        "                mask = team['mask']\n",
        "                position = team['position']\n",
        "                team_id = team['team']['id']\n",
        "                for member in team['teamMembers']:\n",
        "                    tournament_list.append(tournament_id)\n",
        "                    mask_list.append(mask)\n",
        "                    pos_list.append(position)\n",
        "                    team_list.append(team_id)\n",
        "                    player_list.append(member['player']['id'])\n",
        "df_players_in_tournaments = pd.DataFrame({'tournament_id': tournament_list,\n",
        "                   'team_id': team_list,\n",
        "                   'position': pos_list,\n",
        "                   'player_id': player_list,\n",
        "                   'mask': mask_list\n",
        "             })\n",
        "df_players_in_tournaments = df_players_in_tournaments[~df_players_in_tournaments['mask'].isna()]\n",
        "df_players_in_tournaments['mask_len'] = df_players_in_tournaments['mask'].str.len()\n",
        "\n",
        "#оставляем только турниры с одинаковыми масками\n",
        "same_masks = df_players_in_tournaments.groupby('tournament_id')['mask_len'].nunique().eq(1)\n",
        "same_masks = same_masks[same_masks]\n",
        "df_players_in_tournaments = df_players_in_tournaments[df_players_in_tournaments['tournament_id'].isin(same_masks.index)]"
      ],
      "execution_count": 7,
      "outputs": []
    },
    {
      "cell_type": "code",
      "metadata": {
        "colab": {
          "base_uri": "https://localhost:8080/",
          "height": 202
        },
        "id": "RJezuIr2nL0X",
        "outputId": "387f1cec-4a05-4762-bfaa-886f4371b9cf"
      },
      "source": [
        "df_players_in_tournaments.head(5)"
      ],
      "execution_count": 8,
      "outputs": [
        {
          "output_type": "execute_result",
          "data": {
            "text/html": [
              "<div>\n",
              "<style scoped>\n",
              "    .dataframe tbody tr th:only-of-type {\n",
              "        vertical-align: middle;\n",
              "    }\n",
              "\n",
              "    .dataframe tbody tr th {\n",
              "        vertical-align: top;\n",
              "    }\n",
              "\n",
              "    .dataframe thead th {\n",
              "        text-align: right;\n",
              "    }\n",
              "</style>\n",
              "<table border=\"1\" class=\"dataframe\">\n",
              "  <thead>\n",
              "    <tr style=\"text-align: right;\">\n",
              "      <th></th>\n",
              "      <th>tournament_id</th>\n",
              "      <th>team_id</th>\n",
              "      <th>position</th>\n",
              "      <th>player_id</th>\n",
              "      <th>mask</th>\n",
              "      <th>mask_len</th>\n",
              "    </tr>\n",
              "  </thead>\n",
              "  <tbody>\n",
              "    <tr>\n",
              "      <th>0</th>\n",
              "      <td>4772</td>\n",
              "      <td>45556</td>\n",
              "      <td>1.0</td>\n",
              "      <td>6212</td>\n",
              "      <td>111111111011111110111111111100010010</td>\n",
              "      <td>36</td>\n",
              "    </tr>\n",
              "    <tr>\n",
              "      <th>1</th>\n",
              "      <td>4772</td>\n",
              "      <td>45556</td>\n",
              "      <td>1.0</td>\n",
              "      <td>18332</td>\n",
              "      <td>111111111011111110111111111100010010</td>\n",
              "      <td>36</td>\n",
              "    </tr>\n",
              "    <tr>\n",
              "      <th>2</th>\n",
              "      <td>4772</td>\n",
              "      <td>45556</td>\n",
              "      <td>1.0</td>\n",
              "      <td>18036</td>\n",
              "      <td>111111111011111110111111111100010010</td>\n",
              "      <td>36</td>\n",
              "    </tr>\n",
              "    <tr>\n",
              "      <th>3</th>\n",
              "      <td>4772</td>\n",
              "      <td>45556</td>\n",
              "      <td>1.0</td>\n",
              "      <td>22799</td>\n",
              "      <td>111111111011111110111111111100010010</td>\n",
              "      <td>36</td>\n",
              "    </tr>\n",
              "    <tr>\n",
              "      <th>4</th>\n",
              "      <td>4772</td>\n",
              "      <td>45556</td>\n",
              "      <td>1.0</td>\n",
              "      <td>15456</td>\n",
              "      <td>111111111011111110111111111100010010</td>\n",
              "      <td>36</td>\n",
              "    </tr>\n",
              "  </tbody>\n",
              "</table>\n",
              "</div>"
            ],
            "text/plain": [
              "   tournament_id  team_id  ...                                  mask  mask_len\n",
              "0           4772    45556  ...  111111111011111110111111111100010010        36\n",
              "1           4772    45556  ...  111111111011111110111111111100010010        36\n",
              "2           4772    45556  ...  111111111011111110111111111100010010        36\n",
              "3           4772    45556  ...  111111111011111110111111111100010010        36\n",
              "4           4772    45556  ...  111111111011111110111111111100010010        36\n",
              "\n",
              "[5 rows x 6 columns]"
            ]
          },
          "metadata": {
            "tags": []
          },
          "execution_count": 8
        }
      ]
    },
    {
      "cell_type": "code",
      "metadata": {
        "id": "DOKp5dNCnkzM"
      },
      "source": [
        "questions = []\n",
        "for l in df_players_in_tournaments['mask_len']:\n",
        "    questions.extend(np.arange(1, l + 1))\n",
        "    \n",
        "player_question = pd.DataFrame({\n",
        "    'tournament_id': np.repeat(df_players_in_tournaments['tournament_id'], df_players_in_tournaments['mask_len']),\n",
        "    'team_id': np.repeat(df_players_in_tournaments['team_id'], df_players_in_tournaments['mask_len']),\n",
        "    'position': np.repeat(df_players_in_tournaments['position'], df_players_in_tournaments['mask_len']),\n",
        "    'player_id': np.repeat(df_players_in_tournaments['player_id'], df_players_in_tournaments['mask_len']),\n",
        "    'question_number': questions,\n",
        "    'correct': list(itertools.chain.from_iterable(df_players_in_tournaments['mask']))\n",
        "})\n",
        "player_question['tournament_question'] = player_question['tournament_id'].astype(str) + '_' + player_question['question_number'].astype(str)\n",
        "\n",
        "bad_ans = player_question[player_question['correct'].isin(['?', 'X'])] # в mask бывают символы Х и ? для некоторых вопросов, их выкидываю\n",
        "player_question = player_question[~player_question['tournament_question'].isin(bad_ans['tournament_question'])]\n",
        "player_question.loc[:, 'correct'] = player_question['correct'].astype(int, copy=False)\n",
        "\n",
        "del df_players_in_tournaments"
      ],
      "execution_count": 9,
      "outputs": []
    },
    {
      "cell_type": "code",
      "metadata": {
        "colab": {
          "base_uri": "https://localhost:8080/",
          "height": 202
        },
        "id": "CEeZWDEHp0C0",
        "outputId": "b6d5df43-da51-46a5-b2ce-74e649396082"
      },
      "source": [
        "player_question.head(5)"
      ],
      "execution_count": 10,
      "outputs": [
        {
          "output_type": "execute_result",
          "data": {
            "text/html": [
              "<div>\n",
              "<style scoped>\n",
              "    .dataframe tbody tr th:only-of-type {\n",
              "        vertical-align: middle;\n",
              "    }\n",
              "\n",
              "    .dataframe tbody tr th {\n",
              "        vertical-align: top;\n",
              "    }\n",
              "\n",
              "    .dataframe thead th {\n",
              "        text-align: right;\n",
              "    }\n",
              "</style>\n",
              "<table border=\"1\" class=\"dataframe\">\n",
              "  <thead>\n",
              "    <tr style=\"text-align: right;\">\n",
              "      <th></th>\n",
              "      <th>tournament_id</th>\n",
              "      <th>team_id</th>\n",
              "      <th>position</th>\n",
              "      <th>player_id</th>\n",
              "      <th>question_number</th>\n",
              "      <th>correct</th>\n",
              "      <th>tournament_question</th>\n",
              "    </tr>\n",
              "  </thead>\n",
              "  <tbody>\n",
              "    <tr>\n",
              "      <th>0</th>\n",
              "      <td>4772</td>\n",
              "      <td>45556</td>\n",
              "      <td>1.0</td>\n",
              "      <td>6212</td>\n",
              "      <td>1</td>\n",
              "      <td>1</td>\n",
              "      <td>4772_1</td>\n",
              "    </tr>\n",
              "    <tr>\n",
              "      <th>0</th>\n",
              "      <td>4772</td>\n",
              "      <td>45556</td>\n",
              "      <td>1.0</td>\n",
              "      <td>6212</td>\n",
              "      <td>2</td>\n",
              "      <td>1</td>\n",
              "      <td>4772_2</td>\n",
              "    </tr>\n",
              "    <tr>\n",
              "      <th>0</th>\n",
              "      <td>4772</td>\n",
              "      <td>45556</td>\n",
              "      <td>1.0</td>\n",
              "      <td>6212</td>\n",
              "      <td>3</td>\n",
              "      <td>1</td>\n",
              "      <td>4772_3</td>\n",
              "    </tr>\n",
              "    <tr>\n",
              "      <th>0</th>\n",
              "      <td>4772</td>\n",
              "      <td>45556</td>\n",
              "      <td>1.0</td>\n",
              "      <td>6212</td>\n",
              "      <td>4</td>\n",
              "      <td>1</td>\n",
              "      <td>4772_4</td>\n",
              "    </tr>\n",
              "    <tr>\n",
              "      <th>0</th>\n",
              "      <td>4772</td>\n",
              "      <td>45556</td>\n",
              "      <td>1.0</td>\n",
              "      <td>6212</td>\n",
              "      <td>5</td>\n",
              "      <td>1</td>\n",
              "      <td>4772_5</td>\n",
              "    </tr>\n",
              "  </tbody>\n",
              "</table>\n",
              "</div>"
            ],
            "text/plain": [
              "   tournament_id  team_id  ...  correct  tournament_question\n",
              "0           4772    45556  ...        1               4772_1\n",
              "0           4772    45556  ...        1               4772_2\n",
              "0           4772    45556  ...        1               4772_3\n",
              "0           4772    45556  ...        1               4772_4\n",
              "0           4772    45556  ...        1               4772_5\n",
              "\n",
              "[5 rows x 7 columns]"
            ]
          },
          "metadata": {
            "tags": []
          },
          "execution_count": 10
        }
      ]
    },
    {
      "cell_type": "markdown",
      "metadata": {
        "id": "JNhI8YoRXLOA"
      },
      "source": [
        "**Пункт 2.**\\\n",
        "Постройте baseline-модель на основе линейной или логистической регрессии, которая будет обучать рейтинг-лист игроков. Замечания и подсказки:\n",
        "* повопросные результаты — это фактически результаты броска монетки, и их \n",
        "предсказание скорее всего имеет отношение к бинарной классификации;\n",
        "* в разных турнирах вопросы совсем разного уровня сложности, поэтому модель должна это учитывать; скорее всего, модель должна будет явно обучать не только силу каждого игрока, но и сложность каждого вопроса;\n",
        "* для baseline-модели можно забыть о командах и считать, что повопросные результаты команды просто относятся к каждому из её игроков.\n",
        "\n",
        "\n",
        "\n"
      ]
    },
    {
      "cell_type": "code",
      "metadata": {
        "id": "cDAiSQOsXlLV"
      },
      "source": [
        "train = player_question[player_question['tournament_id'].isin(tournaments_2019.index.values)]\n",
        "test = player_question[player_question['tournament_id'].isin(tournaments_2020.index.values)]\n",
        "\n",
        "del player_question"
      ],
      "execution_count": 11,
      "outputs": []
    },
    {
      "cell_type": "code",
      "metadata": {
        "id": "0YbARvI0aBYx"
      },
      "source": [
        "#при помощи onehotencoder приводим пары игрок-вопрос к sparse матрице и обучаем при помощи LogosticRegression из sklearn\n",
        "ohe = sklearn.preprocessing.OneHotEncoder(handle_unknown='ignore')\n",
        "X_train = ohe.fit_transform(train[['player_id', 'tournament_question']])\n",
        "y_train = train['correct']"
      ],
      "execution_count": 12,
      "outputs": []
    },
    {
      "cell_type": "code",
      "metadata": {
        "id": "bbPFBBgZbxrr",
        "outputId": "20cad79e-e22d-476c-bc64-1a4d0ae82836",
        "colab": {
          "base_uri": "https://localhost:8080/"
        }
      },
      "source": [
        "baseline_model = sklearn.linear_model.LogisticRegression(max_iter=300, n_jobs=-1)\n",
        "baseline_model.fit(X_train, y_train)"
      ],
      "execution_count": 13,
      "outputs": [
        {
          "output_type": "execute_result",
          "data": {
            "text/plain": [
              "LogisticRegression(C=1.0, class_weight=None, dual=False, fit_intercept=True,\n",
              "                   intercept_scaling=1, l1_ratio=None, max_iter=300,\n",
              "                   multi_class='auto', n_jobs=-1, penalty='l2',\n",
              "                   random_state=None, solver='lbfgs', tol=0.0001, verbose=0,\n",
              "                   warm_start=False)"
            ]
          },
          "metadata": {
            "tags": []
          },
          "execution_count": 13
        }
      ]
    },
    {
      "cell_type": "code",
      "metadata": {
        "id": "CmC1fUHccqjv"
      },
      "source": [
        "baseline_model_weights = dict(zip(ohe.categories_[0], baseline_model.coef_[0][:ohe.categories_[0].shape[0]]))"
      ],
      "execution_count": 14,
      "outputs": []
    },
    {
      "cell_type": "code",
      "metadata": {
        "id": "GLIOQFIAjk7k"
      },
      "source": [
        "player_rating = train[['player_id']].drop_duplicates().reset_index(drop=True)"
      ],
      "execution_count": 15,
      "outputs": []
    },
    {
      "cell_type": "code",
      "metadata": {
        "id": "-___Ot5Pj1U0"
      },
      "source": [
        "player_rating['baseline_rating'] = player_rating['player_id'].map(baseline_model_weights)\n",
        "player_rating = player_rating.merge(df_players, left_on='player_id', right_index=True)"
      ],
      "execution_count": 16,
      "outputs": []
    },
    {
      "cell_type": "code",
      "metadata": {
        "id": "0m2wqrjxkxze",
        "outputId": "68425706-a27b-4d67-c9ff-3829d8206416",
        "colab": {
          "base_uri": "https://localhost:8080/",
          "height": 662
        }
      },
      "source": [
        "player_rating.sort_values(by='baseline_rating').tail(20)[['surname', 'name', 'patronymic']][::-1] \n",
        "# топ-20 игроков, тут присутствует достаточно игроков из реального топа"
      ],
      "execution_count": 17,
      "outputs": [
        {
          "output_type": "execute_result",
          "data": {
            "text/html": [
              "<div>\n",
              "<style scoped>\n",
              "    .dataframe tbody tr th:only-of-type {\n",
              "        vertical-align: middle;\n",
              "    }\n",
              "\n",
              "    .dataframe tbody tr th {\n",
              "        vertical-align: top;\n",
              "    }\n",
              "\n",
              "    .dataframe thead th {\n",
              "        text-align: right;\n",
              "    }\n",
              "</style>\n",
              "<table border=\"1\" class=\"dataframe\">\n",
              "  <thead>\n",
              "    <tr style=\"text-align: right;\">\n",
              "      <th></th>\n",
              "      <th>surname</th>\n",
              "      <th>name</th>\n",
              "      <th>patronymic</th>\n",
              "    </tr>\n",
              "  </thead>\n",
              "  <tbody>\n",
              "    <tr>\n",
              "      <th>8222</th>\n",
              "      <td>Руссо</td>\n",
              "      <td>Максим</td>\n",
              "      <td>Михайлович</td>\n",
              "    </tr>\n",
              "    <tr>\n",
              "      <th>5957</th>\n",
              "      <td>Брутер</td>\n",
              "      <td>Александра</td>\n",
              "      <td>Владимировна</td>\n",
              "    </tr>\n",
              "    <tr>\n",
              "      <th>1209</th>\n",
              "      <td>Семушин</td>\n",
              "      <td>Иван</td>\n",
              "      <td>Николаевич</td>\n",
              "    </tr>\n",
              "    <tr>\n",
              "      <th>8244</th>\n",
              "      <td>Спешков</td>\n",
              "      <td>Сергей</td>\n",
              "      <td>Леонидович</td>\n",
              "    </tr>\n",
              "    <tr>\n",
              "      <th>1208</th>\n",
              "      <td>Савченков</td>\n",
              "      <td>Михаил</td>\n",
              "      <td>Владимирович</td>\n",
              "    </tr>\n",
              "    <tr>\n",
              "      <th>155</th>\n",
              "      <td>Сорожкин</td>\n",
              "      <td>Артём</td>\n",
              "      <td>Сергеевич</td>\n",
              "    </tr>\n",
              "    <tr>\n",
              "      <th>1210</th>\n",
              "      <td>Мереминский</td>\n",
              "      <td>Станислав</td>\n",
              "      <td>Григорьевич</td>\n",
              "    </tr>\n",
              "    <tr>\n",
              "      <th>2</th>\n",
              "      <td>Левандовский</td>\n",
              "      <td>Михаил</td>\n",
              "      <td>Ильич</td>\n",
              "    </tr>\n",
              "    <tr>\n",
              "      <th>3</th>\n",
              "      <td>Николенко</td>\n",
              "      <td>Сергей</td>\n",
              "      <td>Игоревич</td>\n",
              "    </tr>\n",
              "    <tr>\n",
              "      <th>5</th>\n",
              "      <td>Прокофьева</td>\n",
              "      <td>Ирина</td>\n",
              "      <td>Сергеевна</td>\n",
              "    </tr>\n",
              "    <tr>\n",
              "      <th>20010</th>\n",
              "      <td>Новиков</td>\n",
              "      <td>Илья</td>\n",
              "      <td>Сергеевич</td>\n",
              "    </tr>\n",
              "    <tr>\n",
              "      <th>1</th>\n",
              "      <td>Либер</td>\n",
              "      <td>Александр</td>\n",
              "      <td>Витальевич</td>\n",
              "    </tr>\n",
              "    <tr>\n",
              "      <th>21614</th>\n",
              "      <td>Царёв</td>\n",
              "      <td>Михаил</td>\n",
              "      <td>Сергеевич</td>\n",
              "    </tr>\n",
              "    <tr>\n",
              "      <th>23417</th>\n",
              "      <td>Кудинов</td>\n",
              "      <td>Дмитрий</td>\n",
              "      <td>Сергеевич</td>\n",
              "    </tr>\n",
              "    <tr>\n",
              "      <th>9661</th>\n",
              "      <td>Саксонов</td>\n",
              "      <td>Антон</td>\n",
              "      <td>Владимирович</td>\n",
              "    </tr>\n",
              "    <tr>\n",
              "      <th>6</th>\n",
              "      <td>Архангельская</td>\n",
              "      <td>Юлия</td>\n",
              "      <td>Сергеевна</td>\n",
              "    </tr>\n",
              "    <tr>\n",
              "      <th>0</th>\n",
              "      <td>Выменец</td>\n",
              "      <td>Юрий</td>\n",
              "      <td>Яковлевич</td>\n",
              "    </tr>\n",
              "    <tr>\n",
              "      <th>1207</th>\n",
              "      <td>Гилёв</td>\n",
              "      <td>Алексей</td>\n",
              "      <td>Владимирович</td>\n",
              "    </tr>\n",
              "    <tr>\n",
              "      <th>17841</th>\n",
              "      <td>Мокин</td>\n",
              "      <td>Игорь</td>\n",
              "      <td>Викторович</td>\n",
              "    </tr>\n",
              "    <tr>\n",
              "      <th>17855</th>\n",
              "      <td>Крапиль</td>\n",
              "      <td>Николай</td>\n",
              "      <td>Валерьевич</td>\n",
              "    </tr>\n",
              "  </tbody>\n",
              "</table>\n",
              "</div>"
            ],
            "text/plain": [
              "             surname        name    patronymic\n",
              "8222           Руссо      Максим    Михайлович\n",
              "5957          Брутер  Александра  Владимировна\n",
              "1209         Семушин        Иван    Николаевич\n",
              "8244         Спешков      Сергей    Леонидович\n",
              "1208       Савченков      Михаил  Владимирович\n",
              "155         Сорожкин       Артём     Сергеевич\n",
              "1210     Мереминский   Станислав   Григорьевич\n",
              "2       Левандовский      Михаил         Ильич\n",
              "3          Николенко      Сергей      Игоревич\n",
              "5         Прокофьева       Ирина     Сергеевна\n",
              "20010        Новиков        Илья     Сергеевич\n",
              "1              Либер   Александр    Витальевич\n",
              "21614          Царёв      Михаил     Сергеевич\n",
              "23417        Кудинов     Дмитрий     Сергеевич\n",
              "9661        Саксонов       Антон  Владимирович\n",
              "6      Архангельская        Юлия     Сергеевна\n",
              "0            Выменец        Юрий     Яковлевич\n",
              "1207           Гилёв     Алексей  Владимирович\n",
              "17841          Мокин       Игорь    Викторович\n",
              "17855        Крапиль     Николай    Валерьевич"
            ]
          },
          "metadata": {
            "tags": []
          },
          "execution_count": 17
        }
      ]
    },
    {
      "cell_type": "markdown",
      "metadata": {
        "id": "LuRlExvZrWvm"
      },
      "source": [
        "**Пункт 3.**\\\n",
        "Качество рейтинг-системы оценивается качеством предсказаний результатов турниров. Но сами повопросные результаты наши модели предсказывать вряд ли смогут, ведь неизвестно, насколько сложными окажутся вопросы в будущих турнирах; да и не нужны эти предсказания сами по себе. Поэтому:\n",
        "* предложите способ предсказать результаты нового турнира с известными составами, но неизвестными вопросами, в виде ранжирования команд;\n",
        "* в качестве метрики качества на тестовом наборе давайте считать ранговые корреляции Спирмена и Кендалла (их можно взять в пакете scipy) между реальным ранжированием в результатах турнира и предсказанным моделью, усреднённые по тестовому множеству турниров.\n"
      ]
    },
    {
      "cell_type": "markdown",
      "metadata": {
        "id": "zd_Beo6CwswJ"
      },
      "source": [
        "Из предказаний baseline модели мы знаем вероятность каждого игрока ответить на вопрос. Обозначим вероятность  правильного ответа i-го игрока за $p_i$. Тогда вероятность команды ответить на вопрос $P_{team} = 1 - \\prod\\limits_{i \\in team}(1 - p_i)$"
      ]
    },
    {
      "cell_type": "code",
      "metadata": {
        "id": "yFu-IfeGlFye"
      },
      "source": [
        "def spearman_and_kendall_correlations(test_prediction_prob):\n",
        "    df_prediction_ranks = test[['tournament_id', 'team_id']]\n",
        "    df_prediction_ranks['probability_incorrect'] = 1 - test_prediction_prob\n",
        "    df_prediction_ranks = df_prediction_ranks.groupby(['tournament_id', 'team_id']).prod().reset_index()\n",
        "    df_prediction_ranks['position_prediction'] = df_prediction_ranks.groupby('tournament_id')['probability_incorrect'].rank('dense')\n",
        "    \n",
        "    df_true_ranks = test[['tournament_id', 'team_id', 'position']].drop_duplicates()\n",
        "    df_ranks = pd.merge(df_prediction_ranks, df_true_ranks, on=['tournament_id', 'team_id'])\n",
        "\n",
        "    spearman_correlations = []\n",
        "    kendall_correlations = []\n",
        "    for tournament_id in df_ranks['tournament_id'].unique():\n",
        "        current_tournament = df_ranks[df_ranks['tournament_id'] == tournament_id]\n",
        "        if len(current_tournament) > 1: #беру турниры с более чем одной командой иначе nan получается\n",
        "          spearman_correlations.append(scipy.stats.spearmanr(current_tournament['position'], current_tournament['position_prediction'])[0])\n",
        "          kendall_correlations.append(scipy.stats.kendalltau(current_tournament['position'], current_tournament['position_prediction'])[0])\n",
        "    return np.mean(spearman_correlations), np.mean(kendall_correlations)"
      ],
      "execution_count": 18,
      "outputs": []
    },
    {
      "cell_type": "code",
      "metadata": {
        "id": "xusvnyKt0Q7T",
        "outputId": "d20578c7-e18c-4616-d1a0-d2db3d143596",
        "colab": {
          "base_uri": "https://localhost:8080/"
        }
      },
      "source": [
        "test_prediction_probability = baseline_model.predict_proba(ohe.transform(test[['player_id', 'tournament_question']]))[:, 1]\n",
        "spearman_correlation, kendall_correlation = spearman_and_kendall_correlations(test_prediction_probability)\n",
        "print(\"Корреляции результатов турниров в 2020:\")\n",
        "print(\"Спирмена: \", spearman_correlation, \"Кендалла: \", kendall_correlation)\n",
        "# корреляции получились в пределах нормы, указанных в условии"
      ],
      "execution_count": 19,
      "outputs": [
        {
          "output_type": "stream",
          "text": [
            "/usr/local/lib/python3.7/dist-packages/ipykernel_launcher.py:3: SettingWithCopyWarning: \n",
            "A value is trying to be set on a copy of a slice from a DataFrame.\n",
            "Try using .loc[row_indexer,col_indexer] = value instead\n",
            "\n",
            "See the caveats in the documentation: https://pandas.pydata.org/pandas-docs/stable/user_guide/indexing.html#returning-a-view-versus-a-copy\n",
            "  This is separate from the ipykernel package so we can avoid doing imports until\n"
          ],
          "name": "stderr"
        },
        {
          "output_type": "stream",
          "text": [
            "Корреляции результатов турниров в 2020:\n",
            "Спирмена:  0.7761154231704326 Кендалла:  0.6180683318356113\n"
          ],
          "name": "stdout"
        }
      ]
    },
    {
      "cell_type": "markdown",
      "metadata": {
        "id": "nw-V4pSJ_oEZ"
      },
      "source": [
        "**Пункт 4.**\\\n",
        "Теперь главное: ЧГК — это всё-таки командная игра. Поэтому:\n",
        "* предложите способ учитывать то, что на вопрос отвечают сразу несколько игроков; скорее всего, понадобятся скрытые переменные; \n",
        "* не стесняйтесь делать упрощающие предположения, но теперь переменные “игрок X ответил на вопрос Y” при условии данных должны стать зависимыми для игроков одной и той же команды;\n",
        "* разработайте EM-схему для обучения этой модели, реализуйте её в коде;\n",
        "* обучите несколько итераций, убедитесь, что целевые метрики со временем растут (скорее всего, ненамного, но расти должны), выберите лучшую модель, используя целевые метрики.\n"
      ]
    },
    {
      "cell_type": "code",
      "metadata": {
        "id": "ubqowDzw1w8I"
      },
      "source": [
        "def E_step(train_):\n",
        "  train_['probability_incorrect'] = 1 - train_['player_prediction']\n",
        "  teams = 1 - train_.groupby(['tournament_id', 'team_id', 'question_number'])['probability_incorrect'].prod()\n",
        "  train_ = train_.merge(teams.rename('team_prediction'), left_on=['tournament_id', 'team_id', 'question_number'], right_index=True)\n",
        "  train_['missing_values'] = train_['player_prediction'] / train_['team_prediction']\n",
        "  train_['missing_values'] = np.where(y_train == 0, 0, train_['missing_values'])\n",
        "  train_['missing_values'] = np.clip(train_['missing_values'], 1e-8, 1 - 1e-8)\n",
        "  return train_"
      ],
      "execution_count": 20,
      "outputs": []
    },
    {
      "cell_type": "code",
      "metadata": {
        "id": "xHv2ejEME30X"
      },
      "source": [
        "def M_step(model, train_):\n",
        "  model.fit(X_train, train_['missing_values'])\n",
        "  train_['player_prediction'] = model.predict_proba(X_train)[:, 1]\n",
        "  train_ = train_.drop('team_prediction',1)\n",
        "  return model, train_"
      ],
      "execution_count": 21,
      "outputs": []
    },
    {
      "cell_type": "code",
      "metadata": {
        "id": "YG2gNcSVG9Jl"
      },
      "source": [
        "train['player_prediction'] = baseline_model.predict_proba(X_train)[:, 1]\n",
        "EM_model = sklearn.linear_model.LinearRegression(n_jobs=-1)\n",
        "for i in range(5):\n",
        "  train['probability_incorrect'] = 1 - train['player_prediction']\n",
        "  teams = 1 - train.groupby(['tournament_id', 'team_id', 'question_number'])['probability_incorrect'].prod()\n",
        "  train = train.merge(teams.rename('team_prediction'), left_on=['tournament_id', 'team_id', 'question_number'], right_index=True)\n",
        "  train['missing_values'] = train['player_prediction'] / train['team_prediction']\n",
        "  train['missing_values'] = np.where(y_train == 0, 0, train['missing_values'])\n",
        "  train['missing_values'] = np.clip(train['missing_values'], 1e-8, 1 - 1e-8)\n",
        "\n",
        "  EM_model.fit(X_train, train['missing_values'])\n",
        "  train['player_prediction'] = EM_model.predict(X_train)\n",
        "  train = train.drop('team_prediction',1)\n",
        "  \n",
        "  print('Шаг', i)\n",
        "  test_prediction_probability = EM_model.predict(X_test)\n",
        "  spearman_correlation, kendall_correlation = get_correlations(test_prediction_probability)\n",
        "\n",
        "  print('Корреляции:')\n",
        "  print('Спирмена: ', spearman_correlation, 'Кендалла: ', kendall_correlation)"
      ],
      "execution_count": null,
      "outputs": []
    },
    {
      "cell_type": "code",
      "metadata": {
        "id": "jzxXb30MJ0tu"
      },
      "source": [
        ""
      ],
      "execution_count": null,
      "outputs": []
    }
  ]
}