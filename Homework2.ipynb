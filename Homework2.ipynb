{
  "nbformat": 4,
  "nbformat_minor": 0,
  "metadata": {
    "colab": {
      "name": "Untitled13.ipynb",
      "provenance": [],
      "mount_file_id": "1xKiGPbGa5K2P8SZEdkkG9Thh7_JJl2ZX",
      "authorship_tag": "ABX9TyMnSEIub5gzlbqD1udMsTQ1",
      "include_colab_link": true
    },
    "kernelspec": {
      "name": "python3",
      "display_name": "Python 3"
    },
    "language_info": {
      "name": "python"
    }
  },
  "cells": [
    {
      "cell_type": "markdown",
      "metadata": {
        "id": "view-in-github",
        "colab_type": "text"
      },
      "source": [
        "<a href=\"https://colab.research.google.com/github/ioiein/Advanced-ML/blob/main/Homework2.ipynb\" target=\"_parent\"><img src=\"https://colab.research.google.com/assets/colab-badge.svg\" alt=\"Open In Colab\"/></a>"
      ]
    },
    {
      "cell_type": "code",
      "metadata": {
        "id": "V3UWW25o9D9O"
      },
      "source": [
        "import pickle\n",
        "import numpy as np\n",
        "import pandas as pd\n",
        "import scipy\n",
        "import sklearn"
      ],
      "execution_count": null,
      "outputs": []
    },
    {
      "cell_type": "code",
      "metadata": {
        "id": "ye4i1U5L9E8k"
      },
      "source": [
        "with open('/content/drive/MyDrive/chgk/results.pkl','rb') as f:\n",
        "  results = pickle.load(f)"
      ],
      "execution_count": null,
      "outputs": []
    },
    {
      "cell_type": "code",
      "metadata": {
        "colab": {
          "base_uri": "https://localhost:8080/"
        },
        "id": "PquizY4I9mY_",
        "outputId": "82c0b8e6-f154-4947-8cf4-6eadabab898e"
      },
      "source": [
        "print(results[5][3].keys())"
      ],
      "execution_count": null,
      "outputs": [
        {
          "output_type": "stream",
          "text": [
            "dict_keys(['team', 'mask', 'current', 'questionsTotal', 'synchRequest', 'position', 'controversials', 'flags', 'teamMembers'])\n"
          ],
          "name": "stdout"
        }
      ]
    },
    {
      "cell_type": "code",
      "metadata": {
        "colab": {
          "base_uri": "https://localhost:8080/"
        },
        "id": "i9K6KmY7-LCH",
        "outputId": "d8e7a0b5-3bad-4d22-c0e9-2fa5100c379c"
      },
      "source": [
        "print(results[1][0]['mask'])"
      ],
      "execution_count": null,
      "outputs": [
        {
          "output_type": "stream",
          "text": [
            "None\n"
          ],
          "name": "stdout"
        }
      ]
    },
    {
      "cell_type": "code",
      "metadata": {
        "id": "0p9kZokiBv_d"
      },
      "source": [
        "with open('/content/drive/MyDrive/chgk/players.pkl','rb') as f:\n",
        "  players = pickle.load(f)"
      ],
      "execution_count": null,
      "outputs": []
    },
    {
      "cell_type": "code",
      "metadata": {
        "id": "hmCtz_m0C0Xj"
      },
      "source": [
        "with open('/content/drive/MyDrive/chgk/tournaments.pkl','rb') as f:\n",
        "  tournaments = pickle.load(f)"
      ],
      "execution_count": null,
      "outputs": []
    },
    {
      "cell_type": "code",
      "metadata": {
        "colab": {
          "base_uri": "https://localhost:8080/"
        },
        "id": "Tls8P8XkC3os",
        "outputId": "83ea3934-b1bd-4338-e89c-4b0366297bee"
      },
      "source": [
        "print(players[27822])"
      ],
      "execution_count": null,
      "outputs": [
        {
          "output_type": "stream",
          "text": [
            "{'id': 27822, 'name': 'Михаил', 'patronymic': 'Владимирович', 'surname': 'Савченков'}\n"
          ],
          "name": "stdout"
        }
      ]
    },
    {
      "cell_type": "code",
      "metadata": {
        "colab": {
          "base_uri": "https://localhost:8080/"
        },
        "id": "c1L1-b0oDt6h",
        "outputId": "3f6f36e0-fb31-4b45-ae15-68d03b60f206"
      },
      "source": [
        "print(results[5])"
      ],
      "execution_count": null,
      "outputs": [
        {
          "output_type": "stream",
          "text": [
            "[{'team': {'id': 1733, 'name': 'Суббота 13', 'town': {'id': 233, 'name': 'Нью-Йорк'}}, 'mask': None, 'current': {'name': 'Суббота 13', 'town': {'id': 233, 'name': 'Нью-Йорк'}}, 'questionsTotal': 0, 'synchRequest': None, 'position': 1, 'controversials': [], 'flags': [], 'teamMembers': []}, {'team': {'id': 108, 'name': 'Задумчивый жираф', 'town': {'id': 53, 'name': 'Вашингтон'}}, 'mask': None, 'current': {'name': 'Задумчивый жираф', 'town': {'id': 53, 'name': 'Вашингтон'}}, 'questionsTotal': 0, 'synchRequest': None, 'position': 2, 'controversials': [], 'flags': [], 'teamMembers': []}, {'team': {'id': 425, 'name': 'Бостон-6', 'town': {'id': 41, 'name': 'Бостон'}}, 'mask': None, 'current': {'name': 'Бостон-6', 'town': {'id': 41, 'name': 'Бостон'}}, 'questionsTotal': 0, 'synchRequest': None, 'position': 3, 'controversials': [], 'flags': [], 'teamMembers': [{'flag': None, 'usedRating': 0, 'rating': 0, 'player': {'id': 8513, 'name': 'Дмитрий', 'patronymic': '', 'surname': 'Гуренич'}}, {'flag': None, 'usedRating': 0, 'rating': 0, 'player': {'id': 12882, 'name': 'Ольга', 'patronymic': '', 'surname': 'Кадер'}}, {'flag': None, 'usedRating': 0, 'rating': 0, 'player': {'id': 26855, 'name': 'Александр', 'patronymic': '', 'surname': 'Ретах'}}, {'flag': None, 'usedRating': 0, 'rating': 0, 'player': {'id': 30136, 'name': 'Марк', 'patronymic': '', 'surname': 'Сонкин'}}, {'flag': None, 'usedRating': 0, 'rating': 0, 'player': {'id': 49286, 'name': 'Владимир', 'patronymic': 'Викторович', 'surname': 'Замятин'}}]}, {'team': {'id': 271, 'name': 'Саша и медведи', 'town': {'id': 335, 'name': 'Торонто'}}, 'mask': None, 'current': {'name': 'Саша и медведи', 'town': {'id': 335, 'name': 'Торонто'}}, 'questionsTotal': 0, 'synchRequest': None, 'position': 4, 'controversials': [], 'flags': [], 'teamMembers': []}, {'team': {'id': 494, 'name': 'Гигантские дятлы', 'town': {'id': 383, 'name': 'Чикаго'}}, 'mask': None, 'current': {'name': 'Гигантские дятлы', 'town': {'id': 383, 'name': 'Чикаго'}}, 'questionsTotal': 0, 'synchRequest': None, 'position': 5, 'controversials': [], 'flags': [], 'teamMembers': []}, {'team': {'id': 2562, 'name': 'Мадагаскар', 'town': {'id': 41, 'name': 'Бостон'}}, 'mask': None, 'current': {'name': 'Мадагаскар', 'town': {'id': 41, 'name': 'Бостон'}}, 'questionsTotal': 0, 'synchRequest': None, 'position': 6, 'controversials': [], 'flags': [], 'teamMembers': []}, {'team': {'id': 100, 'name': 'Сигма', 'town': {'id': 233, 'name': 'Нью-Йорк'}}, 'mask': None, 'current': {'name': 'Сигма', 'town': {'id': 233, 'name': 'Нью-Йорк'}}, 'questionsTotal': 0, 'synchRequest': None, 'position': 7, 'controversials': [], 'flags': [], 'teamMembers': []}, {'team': {'id': 351, 'name': 'Снарки', 'town': {'id': 41, 'name': 'Бостон'}}, 'mask': None, 'current': {'name': 'Снарки', 'town': {'id': 41, 'name': 'Бостон'}}, 'questionsTotal': 0, 'synchRequest': None, 'position': 8, 'controversials': [], 'flags': [], 'teamMembers': []}, {'team': {'id': 709, 'name': 'Легионеры', 'town': {'id': 449, 'name': 'сборная'}}, 'mask': None, 'current': {'name': 'Легионеры', 'town': {'id': 449, 'name': 'сборная'}}, 'questionsTotal': 0, 'synchRequest': None, 'position': 9, 'controversials': [], 'flags': [], 'teamMembers': []}, {'team': {'id': 647, 'name': 'Вашингтонские мудрецы', 'town': {'id': 53, 'name': 'Вашингтон'}}, 'mask': None, 'current': {'name': 'Вашингтонские мудрецы', 'town': {'id': 53, 'name': 'Вашингтон'}}, 'questionsTotal': 0, 'synchRequest': None, 'position': 10, 'controversials': [], 'flags': [], 'teamMembers': []}, {'team': {'id': 711, 'name': 'Бухая сова', 'town': {'id': 449, 'name': 'сборная'}}, 'mask': None, 'current': {'name': 'Бухая сова', 'town': {'id': 449, 'name': 'сборная'}}, 'questionsTotal': 0, 'synchRequest': None, 'position': 11, 'controversials': [], 'flags': [], 'teamMembers': []}, {'team': {'id': 177, 'name': 'На дне', 'town': {'id': 233, 'name': 'Нью-Йорк'}}, 'mask': None, 'current': {'name': 'На дне', 'town': {'id': 233, 'name': 'Нью-Йорк'}}, 'questionsTotal': 0, 'synchRequest': None, 'position': 12, 'controversials': [], 'flags': [], 'teamMembers': []}]\n"
          ],
          "name": "stdout"
        }
      ]
    },
    {
      "cell_type": "code",
      "metadata": {
        "id": "zst8REKBEFBQ"
      },
      "source": [
        "results2019 = dict()"
      ],
      "execution_count": null,
      "outputs": []
    },
    {
      "cell_type": "code",
      "metadata": {
        "id": "HenqiomOEbYC"
      },
      "source": [
        "for key in tournaments.keys():\n",
        "  if tournaments[key]['dateStart'][:4] == '2019':\n",
        "    results2019[key] = results[key]"
      ],
      "execution_count": null,
      "outputs": []
    },
    {
      "cell_type": "code",
      "metadata": {
        "colab": {
          "base_uri": "https://localhost:8080/"
        },
        "id": "In0cCXgNFfBU",
        "outputId": "2568bf9e-a4ef-4a95-edfb-1f199d12ec00"
      },
      "source": [
        "results2019[4973][1]"
      ],
      "execution_count": null,
      "outputs": [
        {
          "output_type": "execute_result",
          "data": {
            "text/plain": [
              "{'controversials': [],\n",
              " 'current': {'name': 'Брют', 'town': {'id': 201, 'name': 'Москва'}},\n",
              " 'flags': [],\n",
              " 'mask': '111111111101111110111111111101110111',\n",
              " 'position': 1.5,\n",
              " 'questionsTotal': 32,\n",
              " 'synchRequest': {'id': 57698, 'venue': {'id': 3117, 'name': 'Москва'}},\n",
              " 'team': {'id': 69309, 'name': 'Брют', 'town': {'id': 201, 'name': 'Москва'}},\n",
              " 'teamMembers': [{'flag': None,\n",
              "   'player': {'id': 27822,\n",
              "    'name': 'Михаил',\n",
              "    'patronymic': 'Владимирович',\n",
              "    'surname': 'Савченков'},\n",
              "   'rating': 14315,\n",
              "   'usedRating': 14315},\n",
              "  {'flag': None,\n",
              "   'player': {'id': 28751,\n",
              "    'name': 'Иван',\n",
              "    'patronymic': 'Николаевич',\n",
              "    'surname': 'Семушин'},\n",
              "   'rating': 14315,\n",
              "   'usedRating': 11929},\n",
              "  {'flag': None,\n",
              "   'player': {'id': 20691,\n",
              "    'name': 'Станислав',\n",
              "    'patronymic': 'Григорьевич',\n",
              "    'surname': 'Мереминский'},\n",
              "   'rating': 13495,\n",
              "   'usedRating': 8997},\n",
              "  {'flag': 'Л',\n",
              "   'player': {'id': 33620,\n",
              "    'name': 'Руслан',\n",
              "    'patronymic': 'Гафурович',\n",
              "    'surname': 'Хаиткулов'},\n",
              "   'rating': 12894,\n",
              "   'usedRating': 6447},\n",
              "  {'flag': 'Л',\n",
              "   'player': {'id': 2421,\n",
              "    'name': 'Ася',\n",
              "    'patronymic': 'Сергеевна',\n",
              "    'surname': 'Самойлова'},\n",
              "   'rating': 12198,\n",
              "   'usedRating': 4066},\n",
              "  {'flag': None,\n",
              "   'player': {'id': 34909,\n",
              "    'name': 'Ирина',\n",
              "    'patronymic': 'Викторовна',\n",
              "    'surname': 'Чернуха'},\n",
              "   'rating': 10630,\n",
              "   'usedRating': 1772}]}"
            ]
          },
          "metadata": {
            "tags": []
          },
          "execution_count": 60
        }
      ]
    },
    {
      "cell_type": "code",
      "metadata": {
        "id": "CwzuSRUXFhfO"
      },
      "source": [
        ""
      ],
      "execution_count": null,
      "outputs": []
    }
  ]
}