{
  "nbformat": 4,
  "nbformat_minor": 0,
  "metadata": {
    "colab": {
      "name": "Untitled13.ipynb",
      "provenance": [],
      "mount_file_id": "https://github.com/ioiein/Advanced-ML/blob/main/Homework2.ipynb",
      "authorship_tag": "ABX9TyPUTSqKsjUrMnFvj9aTxgwa",
      "include_colab_link": true
    },
    "kernelspec": {
      "name": "python3",
      "display_name": "Python 3"
    },
    "language_info": {
      "name": "python"
    }
  },
  "cells": [
    {
      "cell_type": "markdown",
      "metadata": {
        "id": "view-in-github",
        "colab_type": "text"
      },
      "source": [
        "<a href=\"https://colab.research.google.com/github/ioiein/Advanced-ML/blob/main/Homework2.ipynb\" target=\"_parent\"><img src=\"https://colab.research.google.com/assets/colab-badge.svg\" alt=\"Open In Colab\"/></a>"
      ]
    },
    {
      "cell_type": "code",
      "metadata": {
        "id": "V3UWW25o9D9O"
      },
      "source": [
        "import pickle\n",
        "import numpy as np\n",
        "import pandas as pd\n",
        "import scipy\n",
        "import sklearn"
      ],
      "execution_count": 2,
      "outputs": []
    },
    {
      "cell_type": "code",
      "metadata": {
        "id": "ye4i1U5L9E8k"
      },
      "source": [
        "with open('/content/drive/MyDrive/chgk/results.pkl','rb') as f:\n",
        "  results = pickle.load(f)"
      ],
      "execution_count": 3,
      "outputs": []
    },
    {
      "cell_type": "code",
      "metadata": {
        "colab": {
          "base_uri": "https://localhost:8080/"
        },
        "id": "PquizY4I9mY_",
        "outputId": "0a2897b5-d033-4ef4-e867-5c3dff6c6e2e"
      },
      "source": [
        "print(results[5][3].keys())"
      ],
      "execution_count": 4,
      "outputs": [
        {
          "output_type": "stream",
          "text": [
            "dict_keys(['team', 'mask', 'current', 'questionsTotal', 'synchRequest', 'position', 'controversials', 'flags', 'teamMembers'])\n"
          ],
          "name": "stdout"
        }
      ]
    },
    {
      "cell_type": "code",
      "metadata": {
        "id": "0p9kZokiBv_d"
      },
      "source": [
        "with open('/content/drive/MyDrive/chgk/players.pkl','rb') as f:\n",
        "  players = pickle.load(f)"
      ],
      "execution_count": 5,
      "outputs": []
    },
    {
      "cell_type": "code",
      "metadata": {
        "id": "hmCtz_m0C0Xj"
      },
      "source": [
        "with open('/content/drive/MyDrive/chgk/tournaments.pkl','rb') as f:\n",
        "  tournaments = pickle.load(f)"
      ],
      "execution_count": 6,
      "outputs": []
    },
    {
      "cell_type": "code",
      "metadata": {
        "colab": {
          "base_uri": "https://localhost:8080/"
        },
        "id": "Tls8P8XkC3os",
        "outputId": "5ba0ba5a-140e-4e3a-e5c3-2c70126014c8"
      },
      "source": [
        "print(players[27822])"
      ],
      "execution_count": 7,
      "outputs": [
        {
          "output_type": "stream",
          "text": [
            "{'id': 27822, 'name': 'Михаил', 'patronymic': 'Владимирович', 'surname': 'Савченков'}\n"
          ],
          "name": "stdout"
        }
      ]
    },
    {
      "cell_type": "code",
      "metadata": {
        "colab": {
          "base_uri": "https://localhost:8080/"
        },
        "id": "c1L1-b0oDt6h",
        "outputId": "e08bff08-7632-427d-cb7a-c12dc436f2af"
      },
      "source": [
        "print(results[5])"
      ],
      "execution_count": 8,
      "outputs": [
        {
          "output_type": "stream",
          "text": [
            "[{'team': {'id': 1733, 'name': 'Суббота 13', 'town': {'id': 233, 'name': 'Нью-Йорк'}}, 'mask': None, 'current': {'name': 'Суббота 13', 'town': {'id': 233, 'name': 'Нью-Йорк'}}, 'questionsTotal': 0, 'synchRequest': None, 'position': 1, 'controversials': [], 'flags': [], 'teamMembers': []}, {'team': {'id': 108, 'name': 'Задумчивый жираф', 'town': {'id': 53, 'name': 'Вашингтон'}}, 'mask': None, 'current': {'name': 'Задумчивый жираф', 'town': {'id': 53, 'name': 'Вашингтон'}}, 'questionsTotal': 0, 'synchRequest': None, 'position': 2, 'controversials': [], 'flags': [], 'teamMembers': []}, {'team': {'id': 425, 'name': 'Бостон-6', 'town': {'id': 41, 'name': 'Бостон'}}, 'mask': None, 'current': {'name': 'Бостон-6', 'town': {'id': 41, 'name': 'Бостон'}}, 'questionsTotal': 0, 'synchRequest': None, 'position': 3, 'controversials': [], 'flags': [], 'teamMembers': [{'flag': None, 'usedRating': 0, 'rating': 0, 'player': {'id': 8513, 'name': 'Дмитрий', 'patronymic': '', 'surname': 'Гуренич'}}, {'flag': None, 'usedRating': 0, 'rating': 0, 'player': {'id': 12882, 'name': 'Ольга', 'patronymic': '', 'surname': 'Кадер'}}, {'flag': None, 'usedRating': 0, 'rating': 0, 'player': {'id': 26855, 'name': 'Александр', 'patronymic': '', 'surname': 'Ретах'}}, {'flag': None, 'usedRating': 0, 'rating': 0, 'player': {'id': 30136, 'name': 'Марк', 'patronymic': '', 'surname': 'Сонкин'}}, {'flag': None, 'usedRating': 0, 'rating': 0, 'player': {'id': 49286, 'name': 'Владимир', 'patronymic': 'Викторович', 'surname': 'Замятин'}}]}, {'team': {'id': 271, 'name': 'Саша и медведи', 'town': {'id': 335, 'name': 'Торонто'}}, 'mask': None, 'current': {'name': 'Саша и медведи', 'town': {'id': 335, 'name': 'Торонто'}}, 'questionsTotal': 0, 'synchRequest': None, 'position': 4, 'controversials': [], 'flags': [], 'teamMembers': []}, {'team': {'id': 494, 'name': 'Гигантские дятлы', 'town': {'id': 383, 'name': 'Чикаго'}}, 'mask': None, 'current': {'name': 'Гигантские дятлы', 'town': {'id': 383, 'name': 'Чикаго'}}, 'questionsTotal': 0, 'synchRequest': None, 'position': 5, 'controversials': [], 'flags': [], 'teamMembers': []}, {'team': {'id': 2562, 'name': 'Мадагаскар', 'town': {'id': 41, 'name': 'Бостон'}}, 'mask': None, 'current': {'name': 'Мадагаскар', 'town': {'id': 41, 'name': 'Бостон'}}, 'questionsTotal': 0, 'synchRequest': None, 'position': 6, 'controversials': [], 'flags': [], 'teamMembers': []}, {'team': {'id': 100, 'name': 'Сигма', 'town': {'id': 233, 'name': 'Нью-Йорк'}}, 'mask': None, 'current': {'name': 'Сигма', 'town': {'id': 233, 'name': 'Нью-Йорк'}}, 'questionsTotal': 0, 'synchRequest': None, 'position': 7, 'controversials': [], 'flags': [], 'teamMembers': []}, {'team': {'id': 351, 'name': 'Снарки', 'town': {'id': 41, 'name': 'Бостон'}}, 'mask': None, 'current': {'name': 'Снарки', 'town': {'id': 41, 'name': 'Бостон'}}, 'questionsTotal': 0, 'synchRequest': None, 'position': 8, 'controversials': [], 'flags': [], 'teamMembers': []}, {'team': {'id': 709, 'name': 'Легионеры', 'town': {'id': 449, 'name': 'сборная'}}, 'mask': None, 'current': {'name': 'Легионеры', 'town': {'id': 449, 'name': 'сборная'}}, 'questionsTotal': 0, 'synchRequest': None, 'position': 9, 'controversials': [], 'flags': [], 'teamMembers': []}, {'team': {'id': 647, 'name': 'Вашингтонские мудрецы', 'town': {'id': 53, 'name': 'Вашингтон'}}, 'mask': None, 'current': {'name': 'Вашингтонские мудрецы', 'town': {'id': 53, 'name': 'Вашингтон'}}, 'questionsTotal': 0, 'synchRequest': None, 'position': 10, 'controversials': [], 'flags': [], 'teamMembers': []}, {'team': {'id': 711, 'name': 'Бухая сова', 'town': {'id': 449, 'name': 'сборная'}}, 'mask': None, 'current': {'name': 'Бухая сова', 'town': {'id': 449, 'name': 'сборная'}}, 'questionsTotal': 0, 'synchRequest': None, 'position': 11, 'controversials': [], 'flags': [], 'teamMembers': []}, {'team': {'id': 177, 'name': 'На дне', 'town': {'id': 233, 'name': 'Нью-Йорк'}}, 'mask': None, 'current': {'name': 'На дне', 'town': {'id': 233, 'name': 'Нью-Йорк'}}, 'questionsTotal': 0, 'synchRequest': None, 'position': 12, 'controversials': [], 'flags': [], 'teamMembers': []}]\n"
          ],
          "name": "stdout"
        }
      ]
    },
    {
      "cell_type": "code",
      "metadata": {
        "id": "zst8REKBEFBQ"
      },
      "source": [
        "results2019 = dict()"
      ],
      "execution_count": 9,
      "outputs": []
    },
    {
      "cell_type": "code",
      "metadata": {
        "id": "HenqiomOEbYC"
      },
      "source": [
        "for key in tournaments.keys():\n",
        "  if tournaments[key]['dateStart'][:4] == '2019':\n",
        "    if len(results[key]) > 0:\n",
        "      if all(x.get('mask') is not None for x in results[key]):\n",
        "        if all(len(results[key][0].get('mask')) == len(x.get('mask')) for x in results[key]):\n",
        "          results2019[key] = results[key]"
      ],
      "execution_count": 10,
      "outputs": []
    },
    {
      "cell_type": "code",
      "metadata": {
        "id": "In0cCXgNFfBU"
      },
      "source": [
        "pl = set()\n",
        "players_number = dict()\n",
        "n = 0\n",
        "l = 0\n",
        "for key in results2019.keys():\n",
        "  l = l + len(results2019[key][0]['mask'])\n",
        "  for team in results2019.get(key):\n",
        "    for member in team['teamMembers']:\n",
        "      pl.add(member['player']['id'])\n",
        "      if players_number.get(member['player']['id']) is None:\n",
        "        players_number[member['player']['id']] = n\n",
        "        n += 1"
      ],
      "execution_count": 11,
      "outputs": []
    },
    {
      "cell_type": "code",
      "metadata": {
        "id": "CwzuSRUXFhfO",
        "outputId": "83b42ffd-49ce-4146-9e22-027956b24c39",
        "colab": {
          "base_uri": "https://localhost:8080/"
        }
      },
      "source": [
        "print(l)\n",
        "print(n)\n",
        "print(len(pl))"
      ],
      "execution_count": 12,
      "outputs": [
        {
          "output_type": "stream",
          "text": [
            "30716\n",
            "56865\n",
            "56865\n"
          ],
          "name": "stdout"
        }
      ]
    },
    {
      "cell_type": "code",
      "metadata": {
        "id": "vjTbiyDCZ6MT"
      },
      "source": [
        "dataset = np.zeros((n,l),dtype=np.int8)"
      ],
      "execution_count": 13,
      "outputs": []
    },
    {
      "cell_type": "code",
      "metadata": {
        "id": "2c7CDendb-RM",
        "outputId": "a5d58207-fde3-42fb-fc46-e02d753fd9fd",
        "colab": {
          "base_uri": "https://localhost:8080/"
        }
      },
      "source": [
        ""
      ],
      "execution_count": 17,
      "outputs": [
        {
          "output_type": "execute_result",
          "data": {
            "text/plain": [
              "<1x30716 sparse matrix of type '<class 'numpy.int8'>'\n",
              "\twith 0 stored elements in Compressed Sparse Row format>"
            ]
          },
          "metadata": {
            "tags": []
          },
          "execution_count": 17
        }
      ]
    },
    {
      "cell_type": "code",
      "metadata": {
        "id": "Y4S2X0xxckgV"
      },
      "source": [
        ""
      ],
      "execution_count": null,
      "outputs": []
    }
  ]
}