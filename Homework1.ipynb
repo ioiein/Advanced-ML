{
  "nbformat": 4,
  "nbformat_minor": 0,
  "metadata": {
    "colab": {
      "name": "Homework1.ipynb",
      "provenance": [],
      "collapsed_sections": [],
      "authorship_tag": "ABX9TyPMDU8IiI/RM/C1UT2lRooo",
      "include_colab_link": true
    },
    "kernelspec": {
      "name": "python3",
      "display_name": "Python 3"
    }
  },
  "cells": [
    {
      "cell_type": "markdown",
      "metadata": {
        "id": "view-in-github",
        "colab_type": "text"
      },
      "source": [
        "<a href=\"https://colab.research.google.com/github/ioiein/Advanced-ML/blob/main/Homework1.ipynb\" target=\"_parent\"><img src=\"https://colab.research.google.com/assets/colab-badge.svg\" alt=\"Open In Colab\"/></a>"
      ]
    },
    {
      "cell_type": "code",
      "metadata": {
        "id": "fTxjd3QxcK4W"
      },
      "source": [
        "import numpy as np\r\n",
        "import pandas as pd\r\n",
        "from matplotlib import pyplot as plt\r\n",
        "from sklearn.linear_model import LinearRegression\r\n",
        "from mpl_toolkits.mplot3d import Axes3D"
      ],
      "execution_count": 1,
      "outputs": []
    },
    {
      "cell_type": "markdown",
      "metadata": {
        "id": "ihez_2b6n1-I"
      },
      "source": [
        "Часть I"
      ]
    },
    {
      "cell_type": "markdown",
      "metadata": {
        "id": "7O94KxBJOdhs"
      },
      "source": [
        "Пусть событие $A$ - подсудимый виновен, событие $B$ - у человека редкая группа крови. Тогда из условия следует, что $P(B) = 0,01$, и $P(B|A) = 1$.\r\n",
        "Прокурор утверждает, что \"шанс, что у подсудимого была бы именно такая группа крови, если бы он был невиновен -- всего 1%\", в своей фразе он оценил $P(B|\\overline{A})$:\r\n",
        "$$P(B|\\overline{A}) = \\frac{P(\\overline{A}|B)*P(B)}{P(\\overline{A})}$$\r\n",
        "$$P(\\overline{A}) = P(\\overline{A}|B)*P(B) + P(\\overline{A}|\\overline{B})*P(\\overline{B}) = (1 - 10^{-4})*0,01 + 1*0,99 = 0,999999$$\r\n",
        "$P(B|\\overline{A}) \\approx 0,01$. Однако, он берет отрицание этого события, заявляя, что это вероятность виновности, но это $P(\\overline{B}|\\overline{A})$, которое означет вероятность обычной группы крови, при невиновности."
      ]
    },
    {
      "cell_type": "markdown",
      "metadata": {
        "id": "yoiZXq3ROeDc"
      },
      "source": [
        "Адвокат же оценивает вероятность $P(A|B)$, которая дествительно равна $10^{-4}$. Однако адвокат утверждает, что \"это свидетельство не просто не является строгим доказательством, а и вовсе даёт нам ничтожно малую вероятность того, что мой подзащитный виновен\", но он не прав, так как данный факт увеличивает вероятность виновности в 100 раз."
      ]
    },
    {
      "cell_type": "markdown",
      "metadata": {
        "id": "KjAMD9I6OemN"
      },
      "source": [
        "Пусть $A$ - это событие положительного теста, а $B$ - это событие болезни. Тогда пусть $\\alpha$ - false positive ошибка, а $\\beta$ - false negative ошибка. Требуется найти максимум следующей вероятности $P(B|A)$.\r\n",
        "$$P(B|A) = \\frac{P(A|B)*P(B)}{P(A)}$$\r\n",
        "$$P(B|\\overline{A}) = \\frac{P(\\overline{A}|B)*P(B)}{P(\\overline{A})}$$\r\n",
        "$P(A|B) = 1 - \\beta$, $P(A|\\overline{B}) = \\alpha$, $P(\\overline{A}|B) = \\beta$, $P(\\overline{A}|\\overline{B}) = 1 - \\alpha$. Тогда \r\n",
        "$$P(B|A) = \\frac{(1-\\beta)*0,01}{(1-\\beta)*0,01 + \\alpha * 0,99}$$\r\n",
        "$$P(B|\\overline{A}) = \\frac{\\beta * 0,01}{\\beta * 0,01 + (1-\\alpha)*0,99}$$\r\n",
        "Зафиксируем $\\alpha$ или $\\beta$, и по другой переменной посмотрим два графика: "
      ]
    },
    {
      "cell_type": "code",
      "metadata": {
        "id": "jL_R2WERgClY"
      },
      "source": [
        "def P_B_A(a,b):\r\n",
        "  return (((1-b)*0.01)/((1-b)*0.01 + a*0.99))\r\n",
        "\r\n",
        "def P_B_notA(a,b):\r\n",
        "  return ((b*0.01)/(b*0.01 + (1-a)*0.99))"
      ],
      "execution_count": 2,
      "outputs": []
    },
    {
      "cell_type": "code",
      "metadata": {
        "colab": {
          "base_uri": "https://localhost:8080/",
          "height": 265
        },
        "id": "qZLvHaYFgZz0",
        "outputId": "6a2112fb-ad0d-4bd4-b0a0-cdf3ae763175"
      },
      "source": [
        "x = np.linspace(0.00,0.05,100)\r\n",
        "plt.plot(x, P_B_A(x, 0.05), 'r')\r\n",
        "plt.plot(x, P_B_notA(x, 0.05), 'g')\r\n",
        "plt.show()"
      ],
      "execution_count": 3,
      "outputs": [
        {
          "output_type": "display_data",
          "data": {
            "image/png": "[encoded data removed]",
            "text/plain": [
              "<Figure size 432x288 with 1 Axes>"
            ]
          },
          "metadata": {
            "tags": [],
            "needs_background": "light"
          }
        }
      ]
    },
    {
      "cell_type": "code",
      "metadata": {
        "colab": {
          "base_uri": "https://localhost:8080/",
          "height": 268
        },
        "id": "de7ddYCrsaT9",
        "outputId": "5980faa7-1660-41e8-be86-6bc5a1116452"
      },
      "source": [
        "x = np.linspace(0.00,0.05,100)\r\n",
        "plt.plot(x, P_B_A(0.05, x),'r')\r\n",
        "plt.plot(x, P_B_notA(0.05, x), 'g')\r\n",
        "plt.show()"
      ],
      "execution_count": 4,
      "outputs": [
        {
          "output_type": "display_data",
          "data": {
            "image/png": "[encoded data removed]",
            "text/plain": [
              "<Figure size 432x288 with 1 Axes>"
            ]
          },
          "metadata": {
            "tags": [],
            "needs_background": "light"
          }
        }
      ]
    },
    {
      "cell_type": "markdown",
      "metadata": {
        "id": "5IPnme3duhAd"
      },
      "source": [
        "Исходя из двух полученных выше графиков, можно сделать вывод, что стоит уменьшать false positive ошибку, при уменьшении которой растет вероятность $P(B|A)$, но не увеличивает $P(B|\\overline{A})$."
      ]
    },
    {
      "cell_type": "markdown",
      "metadata": {
        "id": "4kK6VfVIOfj4"
      },
      "source": [
        "Часть II"
      ]
    },
    {
      "cell_type": "code",
      "metadata": {
        "id": "8mdTGeijceYY"
      },
      "source": [
        "dataset = pd.read_csv(\"https://covid.ourworldindata.org/data/owid-covid-data.csv\")"
      ],
      "execution_count": 5,
      "outputs": []
    },
    {
      "cell_type": "code",
      "metadata": {
        "id": "A73b96p6o1gm"
      },
      "source": [
        "dataset = dataset[(dataset['location'] == \"Russia\") & (dataset['date'] >= '2020-03-03')]"
      ],
      "execution_count": 6,
      "outputs": []
    },
    {
      "cell_type": "code",
      "metadata": {
        "id": "c8bQr9MJpHA_"
      },
      "source": [
        "x = np.array(range(1,51)).reshape(-1,1)\r\n",
        "y_total = np.array(np.log(dataset.head(50).total_cases)).reshape(-1,1)\r\n",
        "y_new = np.array(np.log(np.where(dataset.head(50).new_cases==0, 1, dataset.head(50).new_cases))).reshape(-1,1)"
      ],
      "execution_count": 7,
      "outputs": []
    },
    {
      "cell_type": "code",
      "metadata": {
        "colab": {
          "base_uri": "https://localhost:8080/",
          "height": 265
        },
        "id": "_7ciQ7Yu0GyO",
        "outputId": "f9de5a56-ab8f-4de2-ddc6-f46caed7c9a8"
      },
      "source": [
        "plt.plot(x,dataset.head(50).total_cases,'r')\r\n",
        "plt.plot(x,dataset.head(50).new_cases,'g')\r\n",
        "plt.show()"
      ],
      "execution_count": 8,
      "outputs": [
        {
          "output_type": "display_data",
          "data": {
            "image/png": "[encoded data removed]",
            "text/plain": [
              "<Figure size 432x288 with 1 Axes>"
            ]
          },
          "metadata": {
            "tags": [],
            "needs_background": "light"
          }
        }
      ]
    },
    {
      "cell_type": "code",
      "metadata": {
        "colab": {
          "base_uri": "https://localhost:8080/"
        },
        "id": "IfloZgFyYjRN",
        "outputId": "746f4c99-81cd-4b57-b40f-c13d0282959e"
      },
      "source": [
        "model_total = LinearRegression().fit(x, y_total)\r\n",
        "print(model_total.coef_[0], ' ', model_total.intercept_[0])\r\n",
        "model_new = LinearRegression().fit(x, y_new)\r\n",
        "print(model_new.coef_[0], ' ', model_new.intercept_[0])"
      ],
      "execution_count": 66,
      "outputs": [
        {
          "output_type": "stream",
          "text": [
            "[0.19829091]   1.62244623644881\n",
            "[0.18596309]   0.13472442721454136\n"
          ],
          "name": "stdout"
        }
      ]
    },
    {
      "cell_type": "code",
      "metadata": {
        "id": "JS5zFgBlsSLV"
      },
      "source": [
        "def get_P_D_w(x, y, w): #get P(D|w)\r\n",
        "  y_prac = y\r\n",
        "  y_theor = w[0]*x + w[1]\r\n",
        "  noise = y_prac - y_theor\r\n",
        "  sigma2 = (noise**2).mean() - (noise.mean())**2\r\n",
        "  P_D_w = np.exp((-50/2)*np.log(2*3.14*sigma2) - (noise**2).sum()/(2*sigma2)) #P(D|w)\r\n",
        "  return P_D_w"
      ],
      "execution_count": 9,
      "outputs": []
    },
    {
      "cell_type": "code",
      "metadata": {
        "id": "5J5CAbPryBha"
      },
      "source": [
        "def get_linreg(x,y):\r\n",
        "  model = LinearRegression()\r\n",
        "  model.fit(x, y)\r\n",
        "  return model"
      ],
      "execution_count": 10,
      "outputs": []
    },
    {
      "cell_type": "code",
      "metadata": {
        "id": "cI8X2o5xbGxu"
      },
      "source": [
        "model = LinearRegression()\r\n",
        "coefs = []\r\n",
        "intercepts = []\r\n",
        "for i in range(1000):\r\n",
        "  choice = np.random.choice(np.arange(40), size=40, replace=True)\r\n",
        "  model.fit(x[choice], y_total[choice])\r\n",
        "  coefs.append(model.coef_[0])\r\n",
        "  intercepts.append(model.intercept_[0])\r\n",
        "hist_c, bin_c = np.histogram(coefs, bins=100)\r\n",
        "hist_i, bin_i = np.histogram(intercepts, bins=100)#для total cases"
      ],
      "execution_count": 11,
      "outputs": []
    },
    {
      "cell_type": "code",
      "metadata": {
        "id": "MhZQ1vc1tALe"
      },
      "source": [
        "def get_P_w(x, y, w): #P(w)\r\n",
        "  ind_c = np.digitize(w[0], bin_c)\r\n",
        "  ind_i = np.digitize(w[1], bin_i)\r\n",
        "  if ind_c < 100 and ind_i < 100:\r\n",
        "    return hist_c[ind_c-1] * hist_i[ind_i-1] / 10000\r\n",
        "  else:\r\n",
        "    return 0"
      ],
      "execution_count": 12,
      "outputs": []
    },
    {
      "cell_type": "code",
      "metadata": {
        "id": "IuiZKDUY4ybN"
      },
      "source": [
        "def get_P_w_D(x,y,w,C,I): #P(w|D)\r\n",
        "  P_D = 0\r\n",
        "  for c in C:\r\n",
        "    for i in I:\r\n",
        "      P_D += get_P_D_w(x,y,[c,i]) * get_P_w(x,y,[c,i])\r\n",
        "  return get_P_D_w(x,y,w) * get_P_w(x,y,w) / P_D"
      ],
      "execution_count": 39,
      "outputs": []
    },
    {
      "cell_type": "code",
      "metadata": {
        "colab": {
          "base_uri": "https://localhost:8080/",
          "height": 283
        },
        "id": "d_ePrdLP72lg",
        "outputId": "50420cc4-c3d3-490a-8be2-5f8ab9f9fe50"
      },
      "source": [
        "Z = np.array([[get_P_w_D(x,y_total,[c,i], np.arange(0.19,0.24,0.001),np.arange(1.0,2.0,0.01)) for c in np.arange(0.19,0.24,0.001)] for i in np.arange(1.0,2.0,0.01)])"
      ],
      "execution_count": 34,
      "outputs": [
        {
          "output_type": "execute_result",
          "data": {
            "text/plain": [
              "<matplotlib.collections.QuadMesh at 0x7fb1fa33eb90>"
            ]
          },
          "metadata": {
            "tags": []
          },
          "execution_count": 34
        },
        {
          "output_type": "display_data",
          "data": {
            "image/png": "[encoded data removed]",
            "text/plain": [
              "<Figure size 432x288 with 1 Axes>"
            ]
          },
          "metadata": {
            "tags": [],
            "needs_background": "light"
          }
        }
      ]
    },
    {
      "cell_type": "code",
      "metadata": {
        "colab": {
          "base_uri": "https://localhost:8080/",
          "height": 287
        },
        "id": "VmOs5g2q8BDG",
        "outputId": "2a873be7-f8f1-4b1d-8173-1a6c1bc9e31f"
      },
      "source": [
        "X = np.linspace(0.19, 0.24, 50)\r\n",
        "Y = np.linspace(1, 2, 100)\r\n",
        "X, Y = np.meshgrid(X, Y)\r\n",
        "plt.xlim((0.19, 0.24))\r\n",
        "plt.ylim((1, 2))\r\n",
        "plt.pcolormesh(X, Y, Z, cmap=plt.cm.jet) #апостериорное распределение для параметров модели при целевой cases_total, по х coef_, по y intercepts_"
      ],
      "execution_count": 38,
      "outputs": [
        {
          "output_type": "execute_result",
          "data": {
            "text/plain": [
              "<matplotlib.collections.QuadMesh at 0x7fb1fa21d1d0>"
            ]
          },
          "metadata": {
            "tags": []
          },
          "execution_count": 38
        },
        {
          "output_type": "display_data",
          "data": {
            "image/png": "[encoded data removed]",
            "text/plain": [
              "<Figure size 432x288 with 1 Axes>"
            ]
          },
          "metadata": {
            "tags": [],
            "needs_background": "light"
          }
        }
      ]
    },
    {
      "cell_type": "code",
      "metadata": {
        "id": "Fbm-A1thQIZ3"
      },
      "source": [
        "model = LinearRegression()\r\n",
        "coefs = []\r\n",
        "intercepts = []\r\n",
        "for i in range(1000):\r\n",
        "  choice = np.random.choice(np.arange(40), size=40, replace=True)\r\n",
        "  model.fit(x[choice], y_new[choice])\r\n",
        "  coefs.append(model.coef_[0])\r\n",
        "  intercepts.append(model.intercept_[0])\r\n",
        "hist_c, bin_c = np.histogram(coefs, bins=100)\r\n",
        "hist_i, bin_i = np.histogram(intercepts, bins=100)#для new cases"
      ],
      "execution_count": 43,
      "outputs": []
    },
    {
      "cell_type": "code",
      "metadata": {
        "id": "tX2BDWg_bQVl"
      },
      "source": [
        "Z = np.array([[get_P_w_D(x,y_new,[c,i], np.arange(0.17,0.24,0.005),np.arange(-0.9,0.9,0.05)) for c in np.arange(0.17,0.24,0.005)] for i in np.arange(-0.9,0.9,0.05)])"
      ],
      "execution_count": 63,
      "outputs": []
    },
    {
      "cell_type": "code",
      "metadata": {
        "colab": {
          "base_uri": "https://localhost:8080/",
          "height": 283
        },
        "id": "PSgzVHXqbSYU",
        "outputId": "67d2e6c6-76fd-481f-b1b4-bec0bfb9cfd7"
      },
      "source": [
        "X = np.linspace(0.17, 0.24, 14)\r\n",
        "Y = np.linspace(-0.9, 0.9, 36)\r\n",
        "X, Y = np.meshgrid(X, Y)\r\n",
        "plt.xlim((0.17, 0.24))\r\n",
        "plt.ylim((-0.9, 0.9))\r\n",
        "plt.pcolormesh(X, Y, Z, cmap=plt.cm.jet) #апостериорное распределение для параметров модели при целевой new_total, по х coef_, по y intercepts_"
      ],
      "execution_count": 65,
      "outputs": [
        {
          "output_type": "execute_result",
          "data": {
            "text/plain": [
              "<matplotlib.collections.QuadMesh at 0x7fb1f9f39e10>"
            ]
          },
          "metadata": {
            "tags": []
          },
          "execution_count": 65
        },
        {
          "output_type": "display_data",
          "data": {
            "image/png": "[encoded data removed]",
            "text/plain": [
              "<Figure size 432x288 with 1 Axes>"
            ]
          },
          "metadata": {
            "tags": [],
            "needs_background": "light"
          }
        }
      ]
    },
    {
      "cell_type": "code",
      "metadata": {
        "colab": {
          "base_uri": "https://localhost:8080/",
          "height": 276
        },
        "id": "Eb5oLW1e7Jig",
        "outputId": "6bc91f5a-f681-4cb2-8bc9-35817ab239c1"
      },
      "source": [
        "model = LinearRegression()\r\n",
        "coefs = []\r\n",
        "intercepts = []\r\n",
        "x_test = np.arange(180).reshape(-1,1)\r\n",
        "for i in range(1000):\r\n",
        "  choice = np.random.choice(np.arange(40), size=40, replace=True)\r\n",
        "  model.fit(x[choice], y_total[choice])\r\n",
        "  y_pred=np.exp(model.predict(x_test))\r\n",
        "  plt.plot(x_test,y_pred)\r\n",
        "plt.show() #график всего случаев за 180 дней"
      ],
      "execution_count": 68,
      "outputs": [
        {
          "output_type": "display_data",
          "data": {
            "image/png": "[encoded data removed]",
            "text/plain": [
              "<Figure size 432x288 with 1 Axes>"
            ]
          },
          "metadata": {
            "tags": [],
            "needs_background": "light"
          }
        }
      ]
    },
    {
      "cell_type": "code",
      "metadata": {
        "colab": {
          "base_uri": "https://localhost:8080/",
          "height": 276
        },
        "id": "XyNK1uc3a_Yz",
        "outputId": "4df597d0-0fc0-4d4d-ab91-02dcbec45ace"
      },
      "source": [
        "model = LinearRegression()\r\n",
        "coefs = []\r\n",
        "intercepts = []\r\n",
        "x_test = np.arange(180).reshape(-1,1)\r\n",
        "for i in range(1000):\r\n",
        "  choice = np.random.choice(np.arange(40), size=40, replace=True)\r\n",
        "  model.fit(x[choice], y_new[choice])\r\n",
        "  y_pred=np.exp(model.predict(x_test))\r\n",
        "  plt.plot(x_test,y_pred)\r\n",
        "plt.show() #график новых случаев за 180 дней"
      ],
      "execution_count": 69,
      "outputs": [
        {
          "output_type": "display_data",
          "data": {
            "image/png": "[encoded data removed]",
            "text/plain": [
              "<Figure size 432x288 with 1 Axes>"
            ]
          },
          "metadata": {
            "tags": [],
            "needs_background": "light"
          }
        }
      ]
    },
    {
      "cell_type": "code",
      "metadata": {
        "id": "o2L0m0lLbl2H"
      },
      "source": [
        ""
      ],
      "execution_count": null,
      "outputs": []
    }
  ]
}